{
 "cells": [
  {
   "cell_type": "code",
   "execution_count": 3,
   "id": "e071e17e-7680-4441-9ea8-9a79d9dfea2b",
   "metadata": {},
   "outputs": [],
   "source": [
    "%load_ext sql"
   ]
  },
  {
   "cell_type": "markdown",
   "id": "f252a7c1-231f-4068-b506-5b4964be165a",
   "metadata": {},
   "source": [
    "# Database migration using Liberatii REST API\n",
    "\n",
    "This notebook contains a tutorial for schema, data migration and verification using Liberatii Migration Framework. To make this notebook executable please set the correct values of the variables in the next cell.\n",
    "\n",
    "This notebook here is more for helping developers to use the API. For the actual usage, there is a command line utility for running the operations from here.\n",
    "\n",
    "It migrates Oracle demo HR schema. It expects the schema to be installed in the source Oracle database, and \"HR\" user is created on the target database.\n"
   ]
  },
  {
   "cell_type": "code",
   "execution_count": 14,
   "id": "8bc3f737-fdd4-4278-baa3-0f8a15396ef0",
   "metadata": {},
   "outputs": [
    {
     "name": "stdout",
     "output_type": "stream",
     "text": [
      "Open http://192.168.1.4:300/api in a browser for API reference\n"
     ]
    }
   ],
   "source": [
    "PG_HOST='demo-g3rqzbqudztzk-pgsql.postgres.database.azure.com'\n",
    "LGW_HOST='192.168.1.4'\n",
    "DB='PDBORCL'\n",
    "USER='HR'\n",
    "PSWD='hr'\n",
    "ORACLE_CONN_STR=f'(DESCRIPTION=(ADDRESS=(PROTOCOL=TCP)(HOST=192.168.1.6)(PORT=1521))(CONNECT_DATA=(SERVICE_NAME={DB})))'\n",
    "PG=f'postgresql://{USER}:{PSWD}@{PG_HOST}/PDBORCL'\n",
    "LGW=f'postgresql://{USER}:{PSWD}@{LGW_HOST}/PDBORCL'\n",
    "API_PREFIX=f\"http://{LGW_HOST}:3000\"\n",
    "ORACLE=f'oracle://{USER}:{PSWD}@{ORACLE_CONN_STR}'\n",
    "print(f\"Open http://{LGW_HOST}:300/api in a browser for API reference\")"
   ]
  },
  {
   "cell_type": "markdown",
   "id": "ece0383c-6300-4406-b7ef-36124fdd8201",
   "metadata": {},
   "source": [
    "## Configuration\n",
    "\n",
    "Now we are going to configure the framework. First, we set Oracle's connection details:"
   ]
  },
  {
   "cell_type": "code",
   "execution_count": 3,
   "id": "9ae56db7-8eac-4ace-a5e5-d4d4a577043e",
   "metadata": {},
   "outputs": [
    {
     "name": "stdout",
     "output_type": "stream",
     "text": [
      "*   Trying 192.168.1.4:3000...\n",
      "* Connected to 192.168.1.4 (192.168.1.4) port 3000 (#0)\n",
      "> POST /connection HTTP/1.1\n",
      "> Host: 192.168.1.4:3000\n",
      "> User-Agent: curl/7.81.0\n",
      "> Accept: */*\n",
      "> Content-Type: application/json\n",
      "> Content-Length: 178\n",
      "> \n",
      "* Mark bundle as not supporting multiuse\n",
      "< HTTP/1.1 200 OK\n",
      "< X-Powered-By: Express\n",
      "< Content-Type: application/json; charset=utf-8\n",
      "< Content-Length: 178\n",
      "< ETag: W/\"b2-celWAUSFpweK4ndmD20O4jOkrOc\"\n",
      "< Date: Tue, 08 Aug 2023 15:25:48 GMT\n",
      "< Connection: keep-alive\n",
      "< Keep-Alive: timeout=5\n",
      "< \n",
      "* Connection #0 to host 192.168.1.4 left intact\n",
      "{\"type\":\"Oracle\",\"connectionString\":\"(DESCRIPTION=(ADDRESS=(PROTOCOL=TCP)(HOST=192.168.1.6)(PORT=1521))(CONNECT_DATA=(SERVICE_NAME=PDBORCL)))\",\"user\":\"HR\",\"password\":\"hr\",\"id\":1}"
     ]
    }
   ],
   "source": [
    "!curl -v {API_PREFIX}/connection -H \"Content-Type: application/json\" \\\n",
    "   -d '{{\"type\":\"Oracle\",\"connectionString\":\"{ORACLE_CONN_STR}\",\"user\":\"{USER}\",\"password\":\"{PSWD}\",\"id\":1}}'"
   ]
  },
  {
   "cell_type": "code",
   "execution_count": 4,
   "id": "18de9543-edc4-45ae-9569-8232022b910f",
   "metadata": {},
   "outputs": [
    {
     "name": "stdout",
     "output_type": "stream",
     "text": [
      "*   Trying 192.168.1.4:3000...\n",
      "* Connected to 192.168.1.4 (192.168.1.4) port 3000 (#0)\n",
      "> POST /connection HTTP/1.1\n",
      "> Host: 192.168.1.4:3000\n",
      "> User-Agent: curl/7.81.0\n",
      "> Accept: */*\n",
      "> Content-Type: application/json\n",
      "> Content-Length: 103\n",
      "> \n",
      "* Mark bundle as not supporting multiuse\n",
      "< HTTP/1.1 200 OK\n",
      "< X-Powered-By: Express\n",
      "< Content-Type: application/json; charset=utf-8\n",
      "< Content-Length: 103\n",
      "< ETag: W/\"67-Me2L36c2C4c3Pz0bYS3rAlz2pmA\"\n",
      "< Date: Tue, 08 Aug 2023 15:25:48 GMT\n",
      "< Connection: keep-alive\n",
      "< Keep-Alive: timeout=5\n",
      "< \n",
      "* Connection #0 to host 192.168.1.4 left intact\n",
      "{\"type\":\"LGW\",\"host\":\"192.168.1.4\",\"port\":5432,\"database\":\"PDBORCL\",\"user\":\"HR\",\"password\":\"hr\",\"id\":2}"
     ]
    }
   ],
   "source": [
    "!curl -v {API_PREFIX}/connection -H 'Content-Type: application/json' \\\n",
    "  -d '{{\"type\":\"LGW\",\"host\":\"{LGW_HOST}\",\"port\":5432,\"database\":\"{DB}\",\"user\":\"{USER}\",\"password\":\"{PSWD}\",\"id\":2}}'"
   ]
  },
  {
   "cell_type": "markdown",
   "id": "a6145dd8-2462-4877-b964-2ce9e05d3e20",
   "metadata": {},
   "source": [
    "Next we configure the link to Liberatii Gateway:"
   ]
  },
  {
   "cell_type": "code",
   "execution_count": 5,
   "id": "f7cea7be-cc42-456d-80fd-efd7cbda1048",
   "metadata": {},
   "outputs": [
    {
     "name": "stdout",
     "output_type": "stream",
     "text": [
      "*   Trying 192.168.1.4:3000...\n",
      "* Connected to 192.168.1.4 (192.168.1.4) port 3000 (#0)\n",
      "> POST /connection HTTP/1.1\n",
      "> Host: 192.168.1.4:3000\n",
      "> User-Agent: curl/7.81.0\n",
      "> Accept: */*\n",
      "> Content-Type: application/json\n",
      "> Content-Length: 104\n",
      "> \n",
      "* Mark bundle as not supporting multiuse\n",
      "< HTTP/1.1 200 OK\n",
      "< X-Powered-By: Express\n",
      "< Content-Type: application/json; charset=utf-8\n",
      "< Content-Length: 103\n",
      "< ETag: W/\"67-bte1lrV6kOGDoBLPVmeZ+2ooXWo\"\n",
      "< Date: Tue, 08 Aug 2023 15:25:48 GMT\n",
      "< Connection: keep-alive\n",
      "< Keep-Alive: timeout=5\n",
      "< \n",
      "* Connection #0 to host 192.168.1.4 left intact\n",
      "{\"type\":\"LGW\",\"host\":\"192.168.1.4\",\"port\":5432,\"database\":\"PDBORCL\",\"user\":\"HR\",\"password\":\"hr\",\"id\":3}"
     ]
    }
   ],
   "source": [
    "!curl -v {API_PREFIX}/connection -H 'Content-Type: application/json' \\\n",
    "  -d '{{\"type\":\"LGW\",\"host\":\"{LGW_HOST}\",\"port\":5432,\"database\":\"{DB}\",\"user\":\"{USER}\",\"password\":\"{PSWD}\", \"id\":3}}'"
   ]
  },
  {
   "cell_type": "markdown",
   "id": "c9264ec2-a546-4359-ab2e-c8e63cf5aaad",
   "metadata": {},
   "source": [
    "And next some parameters (please, check the reference document to get all the available parameters). Here we set:\n",
    "\n",
    "* `dataOnePass` - don't use staging files or tables, just transfer all the data from the source to the target\n",
    "* `user` - list of schemas to transfer between the sources and target target\n",
    "* `verbose` - log verbosity\n",
    "* `eraseOnInit` - delete everything from the schema in the init stage, this is useful if we often restart the migration"
   ]
  },
  {
   "cell_type": "code",
   "execution_count": 6,
   "id": "7647127c-810b-4c72-beb3-371f20d137f8",
   "metadata": {},
   "outputs": [
    {
     "name": "stdout",
     "output_type": "stream",
     "text": [
      "*   Trying 192.168.1.4:3000...\n",
      "* Connected to 192.168.1.4 (192.168.1.4) port 3000 (#0)\n",
      "> POST /config HTTP/1.1\n",
      "> Host: 192.168.1.4:3000\n",
      "> User-Agent: curl/7.81.0\n",
      "> Accept: */*\n",
      "> Content-Type: application/json\n",
      "> Content-Length: 70\n",
      "> \n",
      "* Mark bundle as not supporting multiuse\n",
      "< HTTP/1.1 200 OK\n",
      "< X-Powered-By: Express\n",
      "< Content-Type: application/json; charset=utf-8\n",
      "< Content-Length: 768\n",
      "< ETag: W/\"300-tNTi9RrxMIfWDXmWXWGRhHiC/Hk\"\n",
      "< Date: Tue, 08 Aug 2023 15:25:48 GMT\n",
      "< Connection: keep-alive\n",
      "< Keep-Alive: timeout=5\n",
      "< \n",
      "* Connection #0 to host 192.168.1.4 left intact\n",
      "{\"message\":\"Config has been set successfully.\",\"config\":{\"dataOnePass\":true,\"verbose\":2,\"useCopy\":true,\"dataIterations\":-1,\"useWrapper\":true,\"useNative\":false,\"useUnlogged\":false,\"stat\":true,\"statDB\":false,\"rowsBuf\":1000,\"lightCheck\":false,\"dataChunkSize\":-1,\"bigTablesFirst\":true,\"debReverseOrder\":false,\"cli\":true,\"rmStagingFiles\":true,\"parTables\":true,\"hashType\":\"murmur\",\"simulateUnsupportedTypes\":true,\"blobStreams\":true,\"clobStreams\":false,\"blobImmed\":false,\"clobImmed\":false,\"dumpCopy\":false,\"dryRun\":false,\"noBlobs\":false,\"idCol\":\"rowid\",\"idColByTable\":{},\"activeSqlFiles\":[],\"numTries\":10,\"maxWait\":60000,\"ignoreTrim\":true,\"removeLastFetchFirst\":false,\"checkMetaData\":true,\"users\":[\"HR\"],\"linkedServers\":[],\"stages\":{},\"workloadsFiles\":\"\",\"eraseOnInit\":true}}"
     ]
    }
   ],
   "source": [
    "!curl -v {API_PREFIX}/config -H 'Content-Type: application/json' \\\n",
    "  -d '{{\"dataOnePass\": true, \"users\":[\"{USER}\"], \"verbose\":2, \"eraseOnInit\":true}}'"
   ]
  },
  {
   "cell_type": "markdown",
   "id": "f0adc847-95b5-46c6-a4a5-413bea131c29",
   "metadata": {},
   "source": [
    "## Initialisation\n",
    "\n",
    "This is an initialisation operation. The framework runs simple assessments and stores the results in the target database. This is an asynchronous operation, it just schedules the operation and exists immediately.\n"
   ]
  },
  {
   "cell_type": "code",
   "execution_count": 7,
   "id": "ab14a2c2-f341-4080-b9b7-16615e0364b9",
   "metadata": {},
   "outputs": [
    {
     "name": "stdout",
     "output_type": "stream",
     "text": [
      "*   Trying 192.168.1.4:3000...\n",
      "* Connected to 192.168.1.4 (192.168.1.4) port 3000 (#0)\n",
      "> POST /operation HTTP/1.1\n",
      "> Host: 192.168.1.4:3000\n",
      "> User-Agent: curl/7.81.0\n",
      "> Accept: */*\n",
      "> Content-Type: application/json\n",
      "> Content-Length: 42\n",
      "> \n",
      "* Mark bundle as not supporting multiuse\n",
      "< HTTP/1.1 200 OK\n",
      "< X-Powered-By: Express\n",
      "< Content-Type: application/json; charset=utf-8\n",
      "< Content-Length: 119\n",
      "< ETag: W/\"77-IbH7ofHMlmIdDR2JdIGFrwucENs\"\n",
      "< Date: Tue, 08 Aug 2023 15:25:48 GMT\n",
      "< Connection: keep-alive\n",
      "< Keep-Alive: timeout=5\n",
      "< \n",
      "* Connection #0 to host 192.168.1.4 left intact\n",
      "{\"message\":\"Config has been set successfully.\",\"config\":{\"title\":\"init\",\"status\":\"Running\",\"messages\":[],\"progress\":0}}"
     ]
    }
   ],
   "source": [
    "!curl -v {API_PREFIX}/operation -H 'Content-Type: application/json' -d '{{ \"oracle\": 1, \"lgw\": 2, \"stage\": \"init\" }}'"
   ]
  },
  {
   "cell_type": "markdown",
   "id": "3025db03-016f-4e6a-8c5d-7d977b0f0812",
   "metadata": {},
   "source": [
    "Using this operation we can get the current state of the currently running operation:"
   ]
  },
  {
   "cell_type": "code",
   "execution_count": 8,
   "id": "0ef3df1f-d5bd-4a9a-a52a-ef95846ed4b1",
   "metadata": {},
   "outputs": [
    {
     "name": "stdout",
     "output_type": "stream",
     "text": [
      "*   Trying 192.168.1.4:3000...\n",
      "* Connected to 192.168.1.4 (192.168.1.4) port 3000 (#0)\n",
      "> GET /operation?pager=1 HTTP/1.1\n",
      "> Host: 192.168.1.4:3000\n",
      "> User-Agent: curl/7.81.0\n",
      "> Accept: */*\n",
      "> Content-Type: application/json\n",
      "> \n",
      "* Mark bundle as not supporting multiuse\n",
      "< HTTP/1.1 200 OK\n",
      "< X-Powered-By: Express\n",
      "< Content-Type: application/json; charset=utf-8\n",
      "< Content-Length: 62\n",
      "< ETag: W/\"3e-J8rdTjcvainVzLalq4ZOnK38RTU\"\n",
      "< Date: Tue, 08 Aug 2023 15:25:49 GMT\n",
      "< Connection: keep-alive\n",
      "< Keep-Alive: timeout=5\n",
      "< \n",
      "* Connection #0 to host 192.168.1.4 left intact\n",
      "{\"title\":\"init\",\"status\":\"Running\",\"messages\":[],\"progress\":0}"
     ]
    }
   ],
   "source": [
    "!curl -v {API_PREFIX}/operation?pager=1 -H 'Content-Type: application/json'"
   ]
  },
  {
   "cell_type": "markdown",
   "id": "945d87db-1057-4e19-b1b0-ea7e97591f34",
   "metadata": {},
   "source": [
    "And the next operatoin is the same as the previous one, except it waits until the current operation ends."
   ]
  },
  {
   "cell_type": "code",
   "execution_count": 9,
   "id": "6f4d48ec-b5e8-4f72-837e-08506e7e5956",
   "metadata": {},
   "outputs": [
    {
     "name": "stdout",
     "output_type": "stream",
     "text": [
      "*   Trying 192.168.1.4:3000...\n",
      "* Connected to 192.168.1.4 (192.168.1.4) port 3000 (#0)\n",
      "> POST /operation/wait HTTP/1.1\n",
      "> Host: 192.168.1.4:3000\n",
      "> User-Agent: curl/7.81.0\n",
      "> Accept: */*\n",
      "> Content-Type: application/json\n",
      "> \n",
      "* Mark bundle as not supporting multiuse\n",
      "< HTTP/1.1 200 OK\n",
      "< X-Powered-By: Express\n",
      "< Content-Type: application/json; charset=utf-8\n",
      "< Content-Length: 307\n",
      "< ETag: W/\"133-bUUMOgQy4uJakLwtVrAWFnvNMBE\"\n",
      "< Date: Tue, 08 Aug 2023 15:25:52 GMT\n",
      "< Connection: keep-alive\n",
      "< Keep-Alive: timeout=5\n",
      "< \n",
      "* Connection #0 to host 192.168.1.4 left intact\n",
      "{\"title\":\"init\",\"status\":\"Running\",\"messages\":[{\"level\":\"Info\",\"message\":\"\\n^g^+DONE! 👍^:\\n\"},{\"level\":\"Info\",\"message\":[[\"Type\",\"I\",\"Total\"],[\"TABLE\",\"7\",\"7\"],[\"PROCEDURE\",\"2\",\"2\"],[\"TRIGGER\",\"2\",\"2\"],[\"SEQUENCE\",\"3\",\"3\"],[\"INDEX\",\"11\",\"11\"],[\"VIEW\",\"1\",\"1\"],[\"^+Total:^:\",\"26\",\"^+26^\"]]}],\"progress\":0}"
     ]
    }
   ],
   "source": [
    "!curl -vX POST {API_PREFIX}/operation/wait -H 'Content-Type: application/json'"
   ]
  },
  {
   "cell_type": "markdown",
   "id": "ba6de177-165e-41e9-99db-4ce2f51dac99",
   "metadata": {},
   "source": [
    "## Schema migration\n",
    "\n",
    "Now, after `init` stage is done, we have all the necessary information for migrating the database schema. It's stored in the target DB and we can run various queries on it. \n",
    "\n",
    "For example, we can query the number of objects of each type by running with the query:\n"
   ]
  },
  {
   "cell_type": "code",
   "execution_count": 10,
   "id": "041a9fee-5648-4049-a679-5ea1820153f9",
   "metadata": {},
   "outputs": [
    {
     "name": "stdout",
     "output_type": "stream",
     "text": [
      "6 rows affected.\n"
     ]
    },
    {
     "data": {
      "text/html": [
       "<table>\n",
       "    <thead>\n",
       "        <tr>\n",
       "            <th>count</th>\n",
       "            <th>type</th>\n",
       "            <th>stage</th>\n",
       "            <th>error</th>\n",
       "        </tr>\n",
       "    </thead>\n",
       "    <tbody>\n",
       "        <tr>\n",
       "            <td>3</td>\n",
       "            <td>SEQUENCE</td>\n",
       "            <td>I</td>\n",
       "            <td>None</td>\n",
       "        </tr>\n",
       "        <tr>\n",
       "            <td>11</td>\n",
       "            <td>INDEX</td>\n",
       "            <td>I</td>\n",
       "            <td>None</td>\n",
       "        </tr>\n",
       "        <tr>\n",
       "            <td>1</td>\n",
       "            <td>VIEW</td>\n",
       "            <td>I</td>\n",
       "            <td>None</td>\n",
       "        </tr>\n",
       "        <tr>\n",
       "            <td>2</td>\n",
       "            <td>PROCEDURE</td>\n",
       "            <td>I</td>\n",
       "            <td>None</td>\n",
       "        </tr>\n",
       "        <tr>\n",
       "            <td>7</td>\n",
       "            <td>TABLE</td>\n",
       "            <td>I</td>\n",
       "            <td>None</td>\n",
       "        </tr>\n",
       "        <tr>\n",
       "            <td>2</td>\n",
       "            <td>TRIGGER</td>\n",
       "            <td>I</td>\n",
       "            <td>None</td>\n",
       "        </tr>\n",
       "    </tbody>\n",
       "</table>"
      ],
      "text/plain": [
       "[(3, 'SEQUENCE', 'I', None),\n",
       " (11, 'INDEX', 'I', None),\n",
       " (1, 'VIEW', 'I', None),\n",
       " (2, 'PROCEDURE', 'I', None),\n",
       " (7, 'TABLE', 'I', None),\n",
       " (2, 'TRIGGER', 'I', None)]"
      ]
     },
     "execution_count": 10,
     "metadata": {},
     "output_type": "execute_result"
    }
   ],
   "source": [
    "%%sql {PG}\n",
    "select count(*), type, stage, error from dbt.migration_objects group by type, stage, error"
   ]
  },
  {
   "cell_type": "markdown",
   "id": "18a3df02-6ef0-41f5-b495-1d6af688e51a",
   "metadata": {},
   "source": [
    "If there were any errors during the execution of any stage, they will be displayed in `error` stage. The errors can be manually fixed by modifying `ddl1`, `ddl2` columns of `dbt.migration_objects` or by adding some runtime objects. \n",
    "\n",
    "When errors are fixed we don't need to run the whole migration from the beginning. It's enough to reset only the problematic objects' `stage` field and restart the stage. Only those objects migration will be re-run.\n",
    "\n",
    "Now starting the schema migration, with the same parameters as with `init` stage, but with `schema` as the stage name.\n",
    "\n",
    "The schema migration doesn't migrate constraints, indexes and triggers. They are migrated in `constraints` stage. This is done to make data migration run faster.\n",
    "\n",
    "We can also run several instances of each operation. In this case, the migration will run in parallel this way speeding it up significantly. Even a single table data migration can be parallelised.\n"
   ]
  },
  {
   "cell_type": "code",
   "execution_count": 11,
   "id": "c92e2f34-a23b-4c1c-93cd-9a708366cbfb",
   "metadata": {},
   "outputs": [
    {
     "name": "stdout",
     "output_type": "stream",
     "text": [
      "*   Trying 192.168.1.4:3000...\n",
      "* Connected to 192.168.1.4 (192.168.1.4) port 3000 (#0)\n",
      "> POST /operation HTTP/1.1\n",
      "> Host: 192.168.1.4:3000\n",
      "> User-Agent: curl/7.81.0\n",
      "> Accept: */*\n",
      "> Content-Type: application/json\n",
      "> Content-Length: 44\n",
      "> \n",
      "* Mark bundle as not supporting multiuse\n",
      "< HTTP/1.1 200 OK\n",
      "< X-Powered-By: Express\n",
      "< Content-Type: application/json; charset=utf-8\n",
      "< Content-Length: 119\n",
      "< ETag: W/\"77-IbH7ofHMlmIdDR2JdIGFrwucENs\"\n",
      "< Date: Tue, 08 Aug 2023 15:25:53 GMT\n",
      "< Connection: keep-alive\n",
      "< Keep-Alive: timeout=5\n",
      "< \n",
      "* Connection #0 to host 192.168.1.4 left intact\n",
      "{\"message\":\"Config has been set successfully.\",\"config\":{\"title\":\"init\",\"status\":\"Running\",\"messages\":[],\"progress\":0}}"
     ]
    }
   ],
   "source": [
    "!curl -v {API_PREFIX}/operation -H 'Content-Type: application/json' -d '{{ \"oracle\": 1, \"lgw\": 2, \"stage\": \"schema\" }}'"
   ]
  },
  {
   "cell_type": "markdown",
   "id": "43a44b40-d95c-4f0b-af77-926730ab1e41",
   "metadata": {},
   "source": [
    "Again, waiting until this task is finished:\n"
   ]
  },
  {
   "cell_type": "code",
   "execution_count": 12,
   "id": "a198b763-aa92-47a5-8384-162897801b86",
   "metadata": {},
   "outputs": [
    {
     "name": "stdout",
     "output_type": "stream",
     "text": [
      "*   Trying 192.168.1.4:3000...\n",
      "* Connected to 192.168.1.4 (192.168.1.4) port 3000 (#0)\n",
      "> POST /operation/wait HTTP/1.1\n",
      "> Host: 192.168.1.4:3000\n",
      "> User-Agent: curl/7.81.0\n",
      "> Accept: */*\n",
      "> Content-Type: application/json\n",
      "> \n",
      "* Mark bundle as not supporting multiuse\n",
      "< HTTP/1.1 200 OK\n",
      "< X-Powered-By: Express\n",
      "< Content-Type: application/json; charset=utf-8\n",
      "< Content-Length: 353\n",
      "< ETag: W/\"161-2IY1nkWOzapKYoESO9+DROYM0bI\"\n",
      "< Date: Tue, 08 Aug 2023 15:25:54 GMT\n",
      "< Connection: keep-alive\n",
      "< Keep-Alive: timeout=5\n",
      "< \n",
      "* Connection #0 to host 192.168.1.4 left intact\n",
      "{\"title\":\"schema\",\"status\":\"Running\",\"messages\":[{\"level\":\"Info\",\"message\":\"\\n^g^+DONE! 👍^:\\n\"},{\"level\":\"Info\",\"message\":[[\"Type\",\"I\",\"D\",\"Total\"],[\"TABLE\",\"\",\"^g7^\",\"7\"],[\"VIEW\",\"\",\"^g1^\",\"1\"],[\"TRIGGER\",\"2\",\"\",\"2\"],[\"INDEX\",\"11\",\"\",\"11\"],[\"SEQUENCE\",\"\",\"^g3^\",\"3\"],[\"PROCEDURE\",\"\",\"^g2^\",\"2\"],[\"^+Total:^:\",\"13\",\"^g^+13^\",\"^+26^\"]]}],\"progress\":1}"
     ]
    }
   ],
   "source": [
    "!curl -vX POST {API_PREFIX}/operation/wait -H 'Content-Type: application/json'"
   ]
  },
  {
   "cell_type": "markdown",
   "id": "d0b8359c-4bc0-48d9-9f51-008c48a07924",
   "metadata": {},
   "source": [
    "In the `init` stage the framework also queries the sizes of each table. Using them we can get the most optimal strategy for copying the data.\n",
    "\n",
    "So let's see the sizes:\n"
   ]
  },
  {
   "cell_type": "code",
   "execution_count": 13,
   "id": "ef0a0cd1-a601-401f-86a5-2a0038a00afa",
   "metadata": {},
   "outputs": [
    {
     "name": "stdout",
     "output_type": "stream",
     "text": [
      "7 rows affected.\n"
     ]
    },
    {
     "data": {
      "text/html": [
       "<table>\n",
       "    <thead>\n",
       "        <tr>\n",
       "            <th>name</th>\n",
       "            <th>pg_size_pretty</th>\n",
       "            <th>stage</th>\n",
       "        </tr>\n",
       "    </thead>\n",
       "    <tbody>\n",
       "        <tr>\n",
       "            <td>JOB_HISTORY</td>\n",
       "            <td>64 kB</td>\n",
       "            <td>D</td>\n",
       "        </tr>\n",
       "        <tr>\n",
       "            <td>REGIONS</td>\n",
       "            <td>64 kB</td>\n",
       "            <td>D</td>\n",
       "        </tr>\n",
       "        <tr>\n",
       "            <td>DEPARTMENTS</td>\n",
       "            <td>64 kB</td>\n",
       "            <td>D</td>\n",
       "        </tr>\n",
       "        <tr>\n",
       "            <td>LOCATIONS</td>\n",
       "            <td>64 kB</td>\n",
       "            <td>D</td>\n",
       "        </tr>\n",
       "        <tr>\n",
       "            <td>EMPLOYEES</td>\n",
       "            <td>64 kB</td>\n",
       "            <td>D</td>\n",
       "        </tr>\n",
       "        <tr>\n",
       "            <td>JOBS</td>\n",
       "            <td>64 kB</td>\n",
       "            <td>D</td>\n",
       "        </tr>\n",
       "        <tr>\n",
       "            <td>COUNTRIES</td>\n",
       "            <td>0 bytes</td>\n",
       "            <td>D</td>\n",
       "        </tr>\n",
       "    </tbody>\n",
       "</table>"
      ],
      "text/plain": [
       "[('JOB_HISTORY', '64 kB', 'D'),\n",
       " ('REGIONS', '64 kB', 'D'),\n",
       " ('DEPARTMENTS', '64 kB', 'D'),\n",
       " ('LOCATIONS', '64 kB', 'D'),\n",
       " ('EMPLOYEES', '64 kB', 'D'),\n",
       " ('JOBS', '64 kB', 'D'),\n",
       " ('COUNTRIES', '0 bytes', 'D')]"
      ]
     },
     "execution_count": 13,
     "metadata": {},
     "output_type": "execute_result"
    }
   ],
   "source": [
    "%%sql {PG}\n",
    "select name, pg_size_pretty(data_size), stage from dbt.migration_objects where type = 'TABLE' order by data_size desc"
   ]
  },
  {
   "cell_type": "markdown",
   "id": "e0907048-07ed-430e-aa50-ee30ab89cee2",
   "metadata": {},
   "source": [
    "\n",
    "By analysing the sizes for different tables we can apply different strategies for different tables. But size the sizes are quire small for this schema we just use the default strategy everywhere.\n",
    "\n",
    "Now starting the data migration operation, as all the operations before, but with `data` as `stage` field value:\n"
   ]
  },
  {
   "cell_type": "code",
   "execution_count": 14,
   "id": "4e71cbe4-9d69-4330-9c49-ffcab378cb8c",
   "metadata": {},
   "outputs": [
    {
     "name": "stdout",
     "output_type": "stream",
     "text": [
      "*   Trying 192.168.1.4:3000...\n",
      "* Connected to 192.168.1.4 (192.168.1.4) port 3000 (#0)\n",
      "> POST /operation HTTP/1.1\n",
      "> Host: 192.168.1.4:3000\n",
      "> User-Agent: curl/7.81.0\n",
      "> Accept: */*\n",
      "> Content-Type: application/json\n",
      "> Content-Length: 42\n",
      "> \n",
      "* Mark bundle as not supporting multiuse\n",
      "< HTTP/1.1 200 OK\n",
      "< X-Powered-By: Express\n",
      "< Content-Type: application/json; charset=utf-8\n",
      "< Content-Length: 119\n",
      "< ETag: W/\"77-IbH7ofHMlmIdDR2JdIGFrwucENs\"\n",
      "< Date: Tue, 08 Aug 2023 15:25:55 GMT\n",
      "< Connection: keep-alive\n",
      "< Keep-Alive: timeout=5\n",
      "< \n",
      "* Connection #0 to host 192.168.1.4 left intact\n",
      "{\"message\":\"Config has been set successfully.\",\"config\":{\"title\":\"init\",\"status\":\"Running\",\"messages\":[],\"progress\":0}}"
     ]
    }
   ],
   "source": [
    "!curl -v {API_PREFIX}/operation -H 'Content-Type: application/json' -d '{{ \"oracle\": 1, \"lgw\": 2, \"stage\": \"data\" }}'"
   ]
  },
  {
   "cell_type": "markdown",
   "id": "a83b3dff-8b12-462e-a1cb-0862c16d3fd5",
   "metadata": {},
   "source": [
    "Awaiting the operation to be completed:"
   ]
  },
  {
   "cell_type": "code",
   "execution_count": 15,
   "id": "25fde8c1-a533-4a49-bd22-c286ce7be411",
   "metadata": {},
   "outputs": [
    {
     "name": "stdout",
     "output_type": "stream",
     "text": [
      "*   Trying 192.168.1.4:3000...\n",
      "* Connected to 192.168.1.4 (192.168.1.4) port 3000 (#0)\n",
      "> POST /operation/wait HTTP/1.1\n",
      "> Host: 192.168.1.4:3000\n",
      "> User-Agent: curl/7.81.0\n",
      "> Accept: */*\n",
      "> Content-Type: application/json\n",
      "> \n",
      "* Mark bundle as not supporting multiuse\n",
      "< HTTP/1.1 200 OK\n",
      "< X-Powered-By: Express\n",
      "< Content-Type: application/json; charset=utf-8\n",
      "< Content-Length: 381\n",
      "< ETag: W/\"17d-zJDFU1APqibjOfrYY88vn8GfWPo\"\n",
      "< Date: Tue, 08 Aug 2023 15:25:56 GMT\n",
      "< Connection: keep-alive\n",
      "< Keep-Alive: timeout=5\n",
      "< \n",
      "* Connection #0 to host 192.168.1.4 left intact\n",
      "{\"title\":\"data\",\"status\":\"Running\",\"messages\":[{\"level\":\"Info\",\"message\":\"\\n^g^+DONE! 👍^:\\n\"},{\"level\":\"Info\",\"message\":[[\"Type\",\"I\",\"D\",\"R\",\"Total\"],[\"VIEW\",\"\",\"^g1^\",\"\",\"1\"],[\"TRIGGER\",\"2\",\"\",\"\",\"2\"],[\"INDEX\",\"11\",\"\",\"\",\"11\"],[\"TABLE\",\"\",\"\",\"^g7^\",\"7\"],[\"SEQUENCE\",\"\",\"^g3^\",\"\",\"3\"],[\"PROCEDURE\",\"\",\"^g2^\",\"\",\"2\"],[\"^+Total:^:\",\"13\",\"^g^+6^\",\"^g^+7^\",\"^+26^\"]]}],\"progress\":1}"
     ]
    }
   ],
   "source": [
    "!curl -vX POST {API_PREFIX}/operation/wait -H 'Content-Type: application/json'"
   ]
  },
  {
   "cell_type": "markdown",
   "id": "9828b68b-e42e-45f5-a429-f882d3e33d31",
   "metadata": {},
   "source": [
    "## Constraints\n",
    "This stage adds constraints, indexes and triggers to the data we've moved in the previous step:\n"
   ]
  },
  {
   "cell_type": "code",
   "execution_count": 16,
   "id": "11f6f1fc-a060-4d66-b2d3-e8621f8fcd85",
   "metadata": {
    "scrolled": true
   },
   "outputs": [
    {
     "name": "stdout",
     "output_type": "stream",
     "text": [
      "*   Trying 192.168.1.4:3000...\n",
      "* Connected to 192.168.1.4 (192.168.1.4) port 3000 (#0)\n",
      "> POST /operation HTTP/1.1\n",
      "> Host: 192.168.1.4:3000\n",
      "> User-Agent: curl/7.81.0\n",
      "> Accept: */*\n",
      "> Content-Type: application/json\n",
      "> Content-Length: 49\n",
      "> \n",
      "* Mark bundle as not supporting multiuse\n",
      "< HTTP/1.1 200 OK\n",
      "< X-Powered-By: Express\n",
      "< Content-Type: application/json; charset=utf-8\n",
      "< Content-Length: 119\n",
      "< ETag: W/\"77-IbH7ofHMlmIdDR2JdIGFrwucENs\"\n",
      "< Date: Tue, 08 Aug 2023 15:25:56 GMT\n",
      "< Connection: keep-alive\n",
      "< Keep-Alive: timeout=5\n",
      "< \n",
      "* Connection #0 to host 192.168.1.4 left intact\n",
      "{\"message\":\"Config has been set successfully.\",\"config\":{\"title\":\"init\",\"status\":\"Running\",\"messages\":[],\"progress\":0}}"
     ]
    }
   ],
   "source": [
    "!curl -v {API_PREFIX}/operation -H 'Content-Type: application/json' -d '{{ \"oracle\": 1, \"lgw\": 2, \"stage\": \"constraints\" }}'"
   ]
  },
  {
   "cell_type": "markdown",
   "id": "c1281826-1560-470d-826c-b918befee826",
   "metadata": {},
   "source": [
    "Awaiting the operation to be completed:"
   ]
  },
  {
   "cell_type": "code",
   "execution_count": 17,
   "id": "5806fd48-f7f8-4104-a7d7-0d56ead0b5fb",
   "metadata": {},
   "outputs": [
    {
     "name": "stdout",
     "output_type": "stream",
     "text": [
      "*   Trying 192.168.1.4:3000...\n",
      "* Connected to 192.168.1.4 (192.168.1.4) port 3000 (#0)\n",
      "> POST /operation/wait HTTP/1.1\n",
      "> Host: 192.168.1.4:3000\n",
      "> User-Agent: curl/7.81.0\n",
      "> Accept: */*\n",
      "> Content-Type: application/json\n",
      "> \n",
      "* Mark bundle as not supporting multiuse\n",
      "< HTTP/1.1 200 OK\n",
      "< X-Powered-By: Express\n",
      "< Content-Type: application/json; charset=utf-8\n",
      "< Content-Length: 402\n",
      "< ETag: W/\"192-sEzS2kS/xiucs14rJb9sOeSSPGk\"\n",
      "< Date: Tue, 08 Aug 2023 15:25:58 GMT\n",
      "< Connection: keep-alive\n",
      "< Keep-Alive: timeout=5\n",
      "< \n",
      "* Connection #0 to host 192.168.1.4 left intact\n",
      "{\"title\":\"constrants\",\"status\":\"Running\",\"messages\":[{\"level\":\"Info\",\"message\":\"\\n^g^+DONE! 👍^:\\n\"},{\"level\":\"Info\",\"message\":[[\"Type\",\"D\",\"R\",\"d\",\"Total\"],[\"VIEW\",\"^g1^\",\"\",\"\",\"1\"],[\"TRIGGER\",\"^g2^\",\"\",\"\",\"2\"],[\"INDEX\",\"^g11^\",\"\",\"\",\"11\"],[\"TABLE\",\"\",\"^g3^\",\"^g4^\",\"7\"],[\"SEQUENCE\",\"^g3^\",\"\",\"\",\"3\"],[\"PROCEDURE\",\"^g2^\",\"\",\"\",\"2\"],[\"^+Total:^:\",\"^g^+19^\",\"^g^+3^\",\"^g^+4^\",\"^+26^\"]]}],\"progress\":1}"
     ]
    }
   ],
   "source": [
    "!curl -vX POST {API_PREFIX}/operation/wait -H 'Content-Type: application/json'"
   ]
  },
  {
   "cell_type": "markdown",
   "id": "fc0cb080-7092-4579-ab6b-bcff09ebe941",
   "metadata": {},
   "source": [
    "Now we can verify the data in both databases are the same, by comparing each column hash sums:"
   ]
  },
  {
   "cell_type": "code",
   "execution_count": 18,
   "id": "682d5c2b-316a-44c4-929d-5a7db7e2e0a3",
   "metadata": {},
   "outputs": [
    {
     "name": "stdout",
     "output_type": "stream",
     "text": [
      "*   Trying 192.168.1.4:3000...\n",
      "* Connected to 192.168.1.4 (192.168.1.4) port 3000 (#0)\n",
      "> POST /operation HTTP/1.1\n",
      "> Host: 192.168.1.4:3000\n",
      "> User-Agent: curl/7.81.0\n",
      "> Accept: */*\n",
      "> Content-Type: application/json\n",
      "> Content-Length: 43\n",
      "> \n",
      "* Mark bundle as not supporting multiuse\n",
      "< HTTP/1.1 200 OK\n",
      "< X-Powered-By: Express\n",
      "< Content-Type: application/json; charset=utf-8\n",
      "< Content-Length: 119\n",
      "< ETag: W/\"77-IbH7ofHMlmIdDR2JdIGFrwucENs\"\n",
      "< Date: Tue, 08 Aug 2023 15:25:58 GMT\n",
      "< Connection: keep-alive\n",
      "< Keep-Alive: timeout=5\n",
      "< \n",
      "* Connection #0 to host 192.168.1.4 left intact\n",
      "{\"message\":\"Config has been set successfully.\",\"config\":{\"title\":\"init\",\"status\":\"Running\",\"messages\":[],\"progress\":0}}"
     ]
    }
   ],
   "source": [
    "!curl -v {API_PREFIX}/operation -H 'Content-Type: application/json' -d '{{ \"oracle\": 1, \"lgw\": 2, \"stage\": \"check\" }}'"
   ]
  },
  {
   "cell_type": "code",
   "execution_count": 19,
   "id": "f822fe8f-d519-46d3-81ac-41fb99848a3b",
   "metadata": {},
   "outputs": [
    {
     "name": "stdout",
     "output_type": "stream",
     "text": [
      "*   Trying 192.168.1.4:3000...\n",
      "* Connected to 192.168.1.4 (192.168.1.4) port 3000 (#0)\n",
      "> POST /operation/wait HTTP/1.1\n",
      "> Host: 192.168.1.4:3000\n",
      "> User-Agent: curl/7.81.0\n",
      "> Accept: */*\n",
      "> Content-Type: application/json\n",
      "> \n",
      "* Mark bundle as not supporting multiuse\n",
      "< HTTP/1.1 200 OK\n",
      "< X-Powered-By: Express\n",
      "< Content-Type: application/json; charset=utf-8\n",
      "< Content-Length: 362\n",
      "< ETag: W/\"16a-A0cKXCoF9Nse7WpqoirJ2gfWjlo\"\n",
      "< Date: Tue, 08 Aug 2023 15:26:00 GMT\n",
      "< Connection: keep-alive\n",
      "< Keep-Alive: timeout=5\n",
      "< \n",
      "* Connection #0 to host 192.168.1.4 left intact\n",
      "{\"title\":\"check\",\"status\":\"Running\",\"messages\":[{\"level\":\"Info\",\"message\":\"\\n^g^+DONE! 👍^:\\n\"},{\"level\":\"Info\",\"message\":[[\"Type\",\"D\",\"K\",\"Total\"],[\"VIEW\",\"^g1^\",\"\",\"1\"],[\"TRIGGER\",\"^g2^\",\"\",\"2\"],[\"INDEX\",\"^g11^\",\"\",\"11\"],[\"SEQUENCE\",\"^g3^\",\"\",\"3\"],[\"TABLE\",\"\",\"^g7^\",\"7\"],[\"PROCEDURE\",\"^g2^\",\"\",\"2\"],[\"^+Total:^:\",\"^g^+19^\",\"^g^+7^\",\"^+26^\"]]}],\"progress\":1}"
     ]
    }
   ],
   "source": [
    "!curl -vX POST {API_PREFIX}/operation/wait -H 'Content-Type: application/json'"
   ]
  },
  {
   "cell_type": "markdown",
   "id": "b29f3c0c-3faa-45c3-8106-59f2b7bbb478",
   "metadata": {},
   "source": [
    "This is it, now the whole database is migrated. Please see the guide document for the information about different migration options.\n",
    "\n",
    "## Running queries\n",
    "\n",
    "Let's now run a few queries in the both databases to see the results are identical. There is a `checksql` stage to do this automatically, but for the demo purposes we do this manually.\n",
    "\n",
    "So first we check the databases are indeed Oracle nad PostgreSQL"
   ]
  },
  {
   "cell_type": "code",
   "execution_count": 6,
   "id": "770f2d18-0594-4572-ae0e-b14d26ba695b",
   "metadata": {},
   "outputs": [
    {
     "name": "stdout",
     "output_type": "stream",
     "text": [
      "0 rows affected.\n"
     ]
    },
    {
     "data": {
      "text/html": [
       "<table>\n",
       "    <thead>\n",
       "        <tr>\n",
       "            <th>banner</th>\n",
       "        </tr>\n",
       "    </thead>\n",
       "    <tbody>\n",
       "        <tr>\n",
       "            <td>Oracle Database 12c Enterprise Edition Release 12.1.0.2.0 - 64bit Production</td>\n",
       "        </tr>\n",
       "        <tr>\n",
       "            <td>PL/SQL Release 12.1.0.2.0 - Production</td>\n",
       "        </tr>\n",
       "        <tr>\n",
       "            <td>CORE\t12.1.0.2.0\tProduction</td>\n",
       "        </tr>\n",
       "        <tr>\n",
       "            <td>TNS for 64-bit Windows: Version 12.1.0.2.0 - Production</td>\n",
       "        </tr>\n",
       "        <tr>\n",
       "            <td>NLSRTL Version 12.1.0.2.0 - Production</td>\n",
       "        </tr>\n",
       "    </tbody>\n",
       "</table>"
      ],
      "text/plain": [
       "[('Oracle Database 12c Enterprise Edition Release 12.1.0.2.0 - 64bit Production',),\n",
       " ('PL/SQL Release 12.1.0.2.0 - Production',),\n",
       " ('CORE\\t12.1.0.2.0\\tProduction',),\n",
       " ('TNS for 64-bit Windows: Version 12.1.0.2.0 - Production',),\n",
       " ('NLSRTL Version 12.1.0.2.0 - Production',)]"
      ]
     },
     "execution_count": 6,
     "metadata": {},
     "output_type": "execute_result"
    }
   ],
   "source": [
    "%%sql {ORACLE}\n",
    "select banner from v$version"
   ]
  },
  {
   "cell_type": "code",
   "execution_count": 7,
   "id": "f5553f78-56b0-4524-a280-2e89ccb2c3bf",
   "metadata": {},
   "outputs": [
    {
     "name": "stdout",
     "output_type": "stream",
     "text": [
      "1 rows affected.\n"
     ]
    },
    {
     "data": {
      "text/html": [
       "<table>\n",
       "    <thead>\n",
       "        <tr>\n",
       "            <th>BANNER</th>\n",
       "        </tr>\n",
       "    </thead>\n",
       "    <tbody>\n",
       "        <tr>\n",
       "            <td>PostgreSQL 14.7 on x86_64-pc-linux-gnu, compiled by gcc (Ubuntu 7.5.0-3ubuntu1~18.04) 7.5.0, 64-bit</td>\n",
       "        </tr>\n",
       "    </tbody>\n",
       "</table>"
      ],
      "text/plain": [
       "[('PostgreSQL 14.7 on x86_64-pc-linux-gnu, compiled by gcc (Ubuntu 7.5.0-3ubuntu1~18.04) 7.5.0, 64-bit',)]"
      ]
     },
     "execution_count": 7,
     "metadata": {},
     "output_type": "execute_result"
    }
   ],
   "source": [
    "%%sql {LGW}\n",
    "select banner from v$version"
   ]
  },
  {
   "cell_type": "markdown",
   "id": "dd24613a-7916-4664-a207-5674900ce101",
   "metadata": {},
   "source": [
    "The output value on PostgreSQL can be configured to output exactly the same like Oracle if the application uses the data for some business logic selection.\n",
    "\n",
    "Now let's run the same query in both databases."
   ]
  },
  {
   "cell_type": "code",
   "execution_count": 10,
   "id": "00efd189-dcde-4112-8626-5e88ab0161ee",
   "metadata": {},
   "outputs": [],
   "source": [
    "QUERY=\"\"\"\n",
    "SELECT first_name  || ' ' ||  last_name full_name,\n",
    "       salary + \n",
    "       NVL  (commission_pct, 0) sal_com, \n",
    "       DECODE (NVL(e.department_id, -3), 60, d.department_name, \n",
    "                                50, d.department_name, \n",
    "                                30, d.department_name, \n",
    "                                -3, 'UNKNOWN',\n",
    "               'OTHER') dep,\n",
    "       TO_CHAR(e.hire_date) hire_date\n",
    "  FROM employees e, departments d\n",
    " WHERE d.department_id(+) = e.department_id\n",
    "   AND e.last_name like 'G%'\n",
    "ORDER BY first_name  ||  ' '  ||  last_name\n",
    "\"\"\""
   ]
  },
  {
   "cell_type": "markdown",
   "id": "827768b9-03cd-45e8-b510-fca878aeb5ec",
   "metadata": {},
   "source": [
    "First running it on Oracle:"
   ]
  },
  {
   "cell_type": "code",
   "execution_count": 12,
   "id": "d41b3ece-2541-4288-8f74-3b3abc6faac2",
   "metadata": {},
   "outputs": [
    {
     "name": "stdout",
     "output_type": "stream",
     "text": [
      "0 rows affected.\n"
     ]
    },
    {
     "data": {
      "text/html": [
       "<table>\n",
       "    <thead>\n",
       "        <tr>\n",
       "            <th>full_name</th>\n",
       "            <th>sal_com</th>\n",
       "            <th>dep</th>\n",
       "            <th>hire_date</th>\n",
       "        </tr>\n",
       "    </thead>\n",
       "    <tbody>\n",
       "        <tr>\n",
       "            <td>Danielle Greene</td>\n",
       "            <td>9500.15</td>\n",
       "            <td>OTHER</td>\n",
       "            <td>19-MAR-07</td>\n",
       "        </tr>\n",
       "        <tr>\n",
       "            <td>Douglas Grant</td>\n",
       "            <td>2600</td>\n",
       "            <td>Shipping</td>\n",
       "            <td>13-JAN-08</td>\n",
       "        </tr>\n",
       "        <tr>\n",
       "            <td>Girard Geoni</td>\n",
       "            <td>2800</td>\n",
       "            <td>Shipping</td>\n",
       "            <td>03-FEB-08</td>\n",
       "        </tr>\n",
       "        <tr>\n",
       "            <td>Ki Gee</td>\n",
       "            <td>2400</td>\n",
       "            <td>Shipping</td>\n",
       "            <td>12-DEC-07</td>\n",
       "        </tr>\n",
       "        <tr>\n",
       "            <td>Kimberely Grant</td>\n",
       "            <td>7000.15</td>\n",
       "            <td>UNKNOWN</td>\n",
       "            <td>24-MAY-07</td>\n",
       "        </tr>\n",
       "        <tr>\n",
       "            <td>Nancy Greenberg</td>\n",
       "            <td>12008</td>\n",
       "            <td>OTHER</td>\n",
       "            <td>17-AUG-02</td>\n",
       "        </tr>\n",
       "        <tr>\n",
       "            <td>Timothy Gates</td>\n",
       "            <td>2900</td>\n",
       "            <td>Shipping</td>\n",
       "            <td>11-JUL-06</td>\n",
       "        </tr>\n",
       "        <tr>\n",
       "            <td>William Gietz</td>\n",
       "            <td>8300</td>\n",
       "            <td>OTHER</td>\n",
       "            <td>07-JUN-02</td>\n",
       "        </tr>\n",
       "    </tbody>\n",
       "</table>"
      ],
      "text/plain": [
       "[('Danielle Greene', Decimal('9500.15'), 'OTHER', '19-MAR-07'),\n",
       " ('Douglas Grant', 2600, 'Shipping', '13-JAN-08'),\n",
       " ('Girard Geoni', 2800, 'Shipping', '03-FEB-08'),\n",
       " ('Ki Gee', 2400, 'Shipping', '12-DEC-07'),\n",
       " ('Kimberely Grant', Decimal('7000.15'), 'UNKNOWN', '24-MAY-07'),\n",
       " ('Nancy Greenberg', 12008, 'OTHER', '17-AUG-02'),\n",
       " ('Timothy Gates', 2900, 'Shipping', '11-JUL-06'),\n",
       " ('William Gietz', 8300, 'OTHER', '07-JUN-02')]"
      ]
     },
     "execution_count": 12,
     "metadata": {},
     "output_type": "execute_result"
    }
   ],
   "source": [
    "%%sql {ORACLE} \n",
    "\n",
    "{QUERY}\n"
   ]
  },
  {
   "cell_type": "markdown",
   "id": "bd9241d3-4a92-4fef-b737-1d921cc651b1",
   "metadata": {},
   "source": [
    "And now running absolutely the same query but on PostgreSQL via Liberatii Gateway:"
   ]
  },
  {
   "cell_type": "code",
   "execution_count": 13,
   "id": "580387f1-0f6f-47cc-b508-a508379c2a77",
   "metadata": {},
   "outputs": [
    {
     "name": "stdout",
     "output_type": "stream",
     "text": [
      "8 rows affected.\n"
     ]
    },
    {
     "data": {
      "text/html": [
       "<table>\n",
       "    <thead>\n",
       "        <tr>\n",
       "            <th>FULL_NAME</th>\n",
       "            <th>SAL_COM</th>\n",
       "            <th>DEP</th>\n",
       "            <th>HIRE_DATE</th>\n",
       "        </tr>\n",
       "    </thead>\n",
       "    <tbody>\n",
       "        <tr>\n",
       "            <td>Danielle Greene</td>\n",
       "            <td>9500.15</td>\n",
       "            <td>OTHER</td>\n",
       "            <td>19-MAR-07</td>\n",
       "        </tr>\n",
       "        <tr>\n",
       "            <td>Douglas Grant</td>\n",
       "            <td>2600.00</td>\n",
       "            <td>Shipping</td>\n",
       "            <td>13-JAN-08</td>\n",
       "        </tr>\n",
       "        <tr>\n",
       "            <td>Girard Geoni</td>\n",
       "            <td>2800.00</td>\n",
       "            <td>Shipping</td>\n",
       "            <td>03-FEB-08</td>\n",
       "        </tr>\n",
       "        <tr>\n",
       "            <td>Ki Gee</td>\n",
       "            <td>2400.00</td>\n",
       "            <td>Shipping</td>\n",
       "            <td>12-DEC-07</td>\n",
       "        </tr>\n",
       "        <tr>\n",
       "            <td>Kimberely Grant</td>\n",
       "            <td>7000.15</td>\n",
       "            <td>UNKNOWN</td>\n",
       "            <td>24-MAY-07</td>\n",
       "        </tr>\n",
       "        <tr>\n",
       "            <td>Nancy Greenberg</td>\n",
       "            <td>12008.00</td>\n",
       "            <td>OTHER</td>\n",
       "            <td>17-AUG-02</td>\n",
       "        </tr>\n",
       "        <tr>\n",
       "            <td>Timothy Gates</td>\n",
       "            <td>2900.00</td>\n",
       "            <td>Shipping</td>\n",
       "            <td>11-JUL-06</td>\n",
       "        </tr>\n",
       "        <tr>\n",
       "            <td>William Gietz</td>\n",
       "            <td>8300.00</td>\n",
       "            <td>OTHER</td>\n",
       "            <td>07-JUN-02</td>\n",
       "        </tr>\n",
       "    </tbody>\n",
       "</table>"
      ],
      "text/plain": [
       "[('Danielle Greene', Decimal('9500.15'), 'OTHER', '19-MAR-07'),\n",
       " ('Douglas Grant', Decimal('2600.00'), 'Shipping', '13-JAN-08'),\n",
       " ('Girard Geoni', Decimal('2800.00'), 'Shipping', '03-FEB-08'),\n",
       " ('Ki Gee', Decimal('2400.00'), 'Shipping', '12-DEC-07'),\n",
       " ('Kimberely Grant', Decimal('7000.15'), 'UNKNOWN', '24-MAY-07'),\n",
       " ('Nancy Greenberg', Decimal('12008.00'), 'OTHER', '17-AUG-02'),\n",
       " ('Timothy Gates', Decimal('2900.00'), 'Shipping', '11-JUL-06'),\n",
       " ('William Gietz', Decimal('8300.00'), 'OTHER', '07-JUN-02')]"
      ]
     },
     "execution_count": 13,
     "metadata": {},
     "output_type": "execute_result"
    }
   ],
   "source": [
    "%%sql {LGW} \n",
    "\n",
    "{QUERY}"
   ]
  },
  {
   "cell_type": "markdown",
   "id": "6e7632bf-92a1-466f-bdc2-016b66cdaa8b",
   "metadata": {},
   "source": [
    "Here you may see the results are identical. \n",
    "\n",
    "The next steps are:\n",
    "\n",
    "* Synchronise the databases using CDC so we avoid downtimes on switchover\n",
    "* Replay workloads on a sandbox Oracle database and PostgreSQL via Liberatii Gateway, for testing correctness and performance\n"
   ]
  }
 ],
 "metadata": {
  "kernelspec": {
   "display_name": "Python 3 (ipykernel)",
   "language": "python",
   "name": "python3"
  },
  "language_info": {
   "codemirror_mode": {
    "name": "ipython",
    "version": 3
   },
   "file_extension": ".py",
   "mimetype": "text/x-python",
   "name": "python",
   "nbconvert_exporter": "python",
   "pygments_lexer": "ipython3",
   "version": "3.10.12"
  }
 },
 "nbformat": 4,
 "nbformat_minor": 5
}
