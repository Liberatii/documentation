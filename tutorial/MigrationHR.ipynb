{
 "cells": [
  {
   "cell_type": "code",
   "execution_count": 1,
   "id": "e071e17e-7680-4441-9ea8-9a79d9dfea2b",
   "metadata": {},
   "outputs": [],
   "source": [
    "%load_ext sql\n",
    "import socket\n",
    "import json"
   ]
  },
  {
   "cell_type": "markdown",
   "id": "b0d7631c-7226-4a76-81b8-c94b94090e9a",
   "metadata": {},
   "source": [
    "# Database migration with the Liberatii Data Platform\n",
    "\n",
    "The Liberatii Data Platform virtualises a PostgreSQL database to enable Oracle applications to be migrated to PostgreSQL without modification. This notebook contains a tutorial and demonstration of the deployment and use of Liberatii Data Platform to migrate and test an Oracle database.\n",
    "\n",
    "This is composed of the following steps:\n",
    "\n",
    "1. **Deployment**<br/>\n",
    "   The deployment of an Azure Managed Application to provide the Liberatii Data Platform\n",
    "3. **Migration**<br/>\n",
    "   The migration of the schema and data from the Oracle database to PostgreSQL\n",
    "5. **Synchronisation**<br/>\n",
    "   Setup of a Change Data Capture pipeline to synchronise the Oracle and PostgreSQL databases\n",
    "6. **Replay testing**<br/>\n",
    "   Testing of an Oracle Workload Replay against both the Oracle and PostgreSQL databases to verify proper operation\n",
    "\n",
    "The following cell contains the connection information for the Oracle (Source) and PostgreSQL (Target) databases. It is initially setup to migrate the Oracle demo HR schema and expects the given users to exist with the required permissions on the specified databases."
   ]
  },
  {
   "cell_type": "code",
   "execution_count": 2,
   "id": "8bc3f737-fdd4-4278-baa3-0f8a15396ef0",
   "metadata": {},
   "outputs": [
    {
     "name": "stdout",
     "output_type": "stream",
     "text": [
      "\n",
      "Connection settings:\n",
      "\n",
      "    PostgreSQL:             \n",
      "      postgresql://HR:hr@postgres:5432/pdborcl\n",
      "    Oracle:                 \n",
      "      oracle://HR:hr@(DESCRIPTION=(ADDRESS=(PROTOCOL=TCP)(HOST=oracle)(PORT=1521))(CONNECT_DATA=(SERVICE_NAME=pdborcl)))\n",
      "\n"
     ]
    }
   ],
   "source": [
    "## Hostnames of the databases\n",
    "PG_HOST='postgres'\n",
    "ORACLE='oracle'\n",
    "\n",
    "## Connection data\n",
    "DB='pdborcl'\n",
    "USER='HR'\n",
    "PSWD='hr'\n",
    "ORACLE_PORT=1521\n",
    "PG_PORT=5432\n",
    "LGW_PORT=15432\n",
    "\n",
    "## Connection strings (derived from the above connection data)\n",
    "ORACLE_CONN_STR=f'(DESCRIPTION=(ADDRESS=(PROTOCOL=TCP)(HOST={ORACLE})(PORT={ORACLE_PORT}))(CONNECT_DATA=(SERVICE_NAME={DB})))'\n",
    "PG=f'postgresql://{USER}:{PSWD}@{PG_HOST}:{PG_PORT}/{DB}'\n",
    "ORACLE=f'oracle://{USER}:{PSWD}@{ORACLE_CONN_STR}'\n",
    "\n",
    "print(f\"\"\"\n",
    "Connection settings:\n",
    "\n",
    "    PostgreSQL:             \n",
    "      {PG}\n",
    "    Oracle:                 \n",
    "      {ORACLE}\n",
    "\"\"\")"
   ]
  },
  {
   "cell_type": "markdown",
   "id": "fffe9687-e58e-4a5c-b88e-caf4b65238f4",
   "metadata": {},
   "source": [
    "This Notebook uses the SQL extension so connections the databases can be queried directly. The following cells check the connections to Oracle and PostgreSQL are working:"
   ]
  },
  {
   "cell_type": "code",
   "execution_count": 3,
   "id": "a6c806c1-caca-48d7-9ce8-5c5be5db1cfe",
   "metadata": {},
   "outputs": [
    {
     "name": "stdout",
     "output_type": "stream",
     "text": [
      "0 rows affected.\n"
     ]
    },
    {
     "data": {
      "text/html": [
       "<table>\n",
       "    <thead>\n",
       "        <tr>\n",
       "            <th>banner_full</th>\n",
       "        </tr>\n",
       "    </thead>\n",
       "    <tbody>\n",
       "        <tr>\n",
       "            <td>Oracle Database 19c Enterprise Edition Release 19.0.0.0.0 - Production<br>Version 19.3.0.0.0</td>\n",
       "        </tr>\n",
       "    </tbody>\n",
       "</table>"
      ],
      "text/plain": [
       "[('Oracle Database 19c Enterprise Edition Release 19.0.0.0.0 - Production\\nVersion 19.3.0.0.0',)]"
      ]
     },
     "execution_count": 3,
     "metadata": {},
     "output_type": "execute_result"
    }
   ],
   "source": [
    "%%sql {ORACLE}\n",
    "-- Find version information for the Oracle database\n",
    "select banner_full FROM v$version"
   ]
  },
  {
   "cell_type": "code",
   "execution_count": 4,
   "id": "0fcba405-657c-4509-b96c-7d277300dcac",
   "metadata": {},
   "outputs": [
    {
     "name": "stdout",
     "output_type": "stream",
     "text": [
      "1 rows affected.\n"
     ]
    },
    {
     "data": {
      "text/html": [
       "<table>\n",
       "    <thead>\n",
       "        <tr>\n",
       "            <th>version</th>\n",
       "        </tr>\n",
       "    </thead>\n",
       "    <tbody>\n",
       "        <tr>\n",
       "            <td>PostgreSQL 14.9 (Debian 14.9-1.pgdg110+1) on x86_64-pc-linux-gnu, compiled by gcc (Debian 10.2.1-6) 10.2.1 20210110, 64-bit</td>\n",
       "        </tr>\n",
       "    </tbody>\n",
       "</table>"
      ],
      "text/plain": [
       "[('PostgreSQL 14.9 (Debian 14.9-1.pgdg110+1) on x86_64-pc-linux-gnu, compiled by gcc (Debian 10.2.1-6) 10.2.1 20210110, 64-bit',)]"
      ]
     },
     "execution_count": 4,
     "metadata": {},
     "output_type": "execute_result"
    }
   ],
   "source": [
    "%%sql {PG}\n",
    "-- Find version information for the PostgreSQL database\n",
    "select version()"
   ]
  },
  {
   "cell_type": "markdown",
   "id": "a0bd4418-08ae-4d08-a31f-7677aab9bf23",
   "metadata": {},
   "source": [
    "# Stage 1: Deploy Liberatii Data Platform and Gateway\n",
    "\n",
    "The Liberatii Data Platform and Gateway are available as a single Azure Managed Application. In this notebook we will use the Azure command line to deploy the managed application.\n",
    "\n",
    "## Login\n",
    "\n",
    "The following cell ensures that the user is logged into Azure using the `az` command line tool."
   ]
  },
  {
   "cell_type": "code",
   "execution_count": 5,
   "id": "acd1bf0c-dd68-4304-8096-efaf53f3c793",
   "metadata": {},
   "outputs": [
    {
     "name": "stdout",
     "output_type": "stream",
     "text": [
      "Logged in, available subscriptions:\n",
      "  d2e666be-5fde-451b-84c9-9c545b3e435c: Microsoft Azure Sponsorship main\n",
      "  ace5ef55-d452-4062-bdec-290eece9c71e: Pay-As-You-Go Dev/Test\n",
      "  de2038ee-22e2-426a-bac2-5f277e20c0cd: MAS Demo\n"
     ]
    }
   ],
   "source": [
    "import json\n",
    "account=!az account list\n",
    "if account[0].find(\"ERROR\") != -1:\n",
    "    _ = !az login\n",
    "    account=!az account list\n",
    "if account[0].find(\"ERROR\") != -1:\n",
    "    print(\"Not logged in: \" + \"\\n\".join(account))\n",
    "else:\n",
    "    print(\"Logged in, available subscriptions:\")\n",
    "    print(\"\\n\".join([\n",
    "        f\"  {e['id']}: {e['name']}\"\n",
    "        for e in json.loads(\"\".join(account))\n",
    "        if e['state'] == 'Enabled'\n",
    "    ]))"
   ]
  },
  {
   "cell_type": "markdown",
   "id": "da9901b1-1352-4f21-a0c8-dc51658540a9",
   "metadata": {},
   "source": [
    "## Parameters\n",
    "\n",
    "The next cell defines the parameters for creation of the Liberatii managed application. We will define a new resource group for this."
   ]
  },
  {
   "cell_type": "code",
   "execution_count": 6,
   "id": "23377bb5-f784-4d0f-aa79-5d72948595f2",
   "metadata": {},
   "outputs": [],
   "source": [
    "RESOURCE_GROUP='NotebookTest'\n",
    "\n",
    "definitionid = !az managedapp definition show \\\n",
    "    --subscription \"Pay-As-You-Go Dev/Test\" \\\n",
    "    -g vmonlypgtransmanapp0v123 -n vmonlypgTranslator_0v123 \\\n",
    "    --query id --output tsv\n",
    "subscriptionid = !az account show --query id --output tsv\n",
    "resourceid = f\"/subscriptions/{subscriptionid[0]}/resourceGroups/{RESOURCE_GROUP}-mrg\"\n",
    "params = json.dumps([{\n",
    "    \"virtualMachinePrefix\": {\"value\": \"mftde\"},\n",
    "    \"virtualNetworkRange\": {\"value\": \"192.168.1.0/24\"},\n",
    "    \"virtualMachineSize\": {\"value\": \"Standard_F2s_v2\"},\n",
    "    \"poolMode\": {\"value\": \"session\"},\n",
    "    \"port\": {\"value\": LGW_PORT},\n",
    "    \"postgresqlHost\": {\"value\": PG_HOST},\n",
    "    \"postgresqlPassword\":{\"value\": USER},\n",
    "    \"postgresqlUsername\":{\"value\": PSWD},\n",
    "    \"interconnectPassword\":{\"value\":\"someSecureString\"},\n",
    "    \"infoQueryPassword\":{\"value\":\"someSecureString\"},\n",
    "    \"customerParameters\":{\"value\":\"\"}\n",
    "}])"
   ]
  },
  {
   "cell_type": "markdown",
   "id": "54b1b70d-6c12-4435-b978-c11dee0ac08f",
   "metadata": {},
   "source": [
    "## Creation\n",
    "\n",
    "The resource group and managed application can now be created."
   ]
  },
  {
   "cell_type": "code",
   "execution_count": 7,
   "id": "0123465f-3d42-48a4-b1ea-b6dcca2fa0e9",
   "metadata": {},
   "outputs": [
    {
     "name": "stdout",
     "output_type": "stream",
     "text": [
      "Group already exists, skipping deployment\n"
     ]
    }
   ],
   "source": [
    "groups=!az group list --query \"[?name=='{RESOURCE_GROUP}'].id\"\n",
    "if len(json.loads(\"\".join(groups))) > 0:\n",
    "    print(\"Group already exists, skipping deployment\")\n",
    "else:\n",
    "    !az group create -g {RESOURCE_GROUP} -l ukwest\n",
    "    !az managedapp create -n TestTranslator -g {RESOURCE_GROUP} \\\n",
    "        --location ukwest \\\n",
    "        --managedapp-definition-id \"{definitionid[0]}\" \\\n",
    "        --kind ServiceCatalog \\\n",
    "        --managed-rg-id \"{resourceid}\" \\\n",
    "        --parameters '{params}'"
   ]
  },
  {
   "cell_type": "markdown",
   "id": "c7ad6ff7-b6b0-4c76-b29f-420c565fb976",
   "metadata": {},
   "source": [
    "## Connections\n",
    "\n",
    "The following cell will construct connection strings for the newly deployed Liberatii Data Platform and Gateway.\n",
    "\n",
    "If the application was not deployed other values may be used to access the Liberatii Gateway and Data Platform using the `LGW_HOST` and `PLATFORM` variables directly."
   ]
  },
  {
   "cell_type": "code",
   "execution_count": 9,
   "id": "a325614d-c6d9-489f-b8cd-7bcbbf9192ba",
   "metadata": {},
   "outputs": [
    {
     "name": "stdout",
     "output_type": "stream",
     "text": [
      "Ignoring resource group: [\"ERROR: (ResourceGroupNotFound) Resource group 'NotebookTest-mrg' could not be found.\", 'Code: ResourceGroupNotFound', \"Message: Resource group 'NotebookTest-mrg' could not be found.\"]\n",
      "\n",
      "Connection settings:\n",
      "\n",
      "    Liberatii Gateway:\n",
      "      postgresql://HR:hr@pgtranslator:15432/pdborcl\n",
      "    Liberatii Data Platform:\n",
      "      http://192.168.32.6:3000/api\n",
      "    \n",
      "The API may be opened in a browser for reference.\n",
      "\n"
     ]
    }
   ],
   "source": [
    "## Use these values if the deployment stage was skipped\n",
    "LGW_HOST='pgtranslator'\n",
    "PLATFORM='migration'\n",
    "\n",
    "## ...otherwise, if there is a deployment, collect the address\n",
    "ips=!az network public-ip list -g {RESOURCE_GROUP}-mrg --query [].ipAddress\n",
    "if ips[0][0] == '[':\n",
    "    LGW_HOST=json.loads(\"\".join(ips))[0]\n",
    "    PLATFORM=LGW_HOST\n",
    "else:\n",
    "    print(f\"Ignoring resource group: {ips}\")\n",
    "    \n",
    "LGW=f'postgresql://{USER}:{PSWD}@{LGW_HOST}:{LGW_PORT}/{DB}'\n",
    "API_PREFIX=f\"http://{socket.gethostbyname(PLATFORM)}:3000\"\n",
    "\n",
    "print(f\"\"\"\n",
    "Connection settings:\n",
    "\n",
    "    Liberatii Gateway:\n",
    "      {LGW}\n",
    "    Liberatii Data Platform:\n",
    "      {API_PREFIX}/api\n",
    "    \n",
    "The API may be opened in a browser for reference.\n",
    "\"\"\")"
   ]
  },
  {
   "cell_type": "markdown",
   "id": "bcbc8b7d-5d6f-4649-91e6-a43e8194190c",
   "metadata": {},
   "source": [
    "## Test\n",
    "\n",
    "With the Liberatii Gateway deployed (or otherwise available) we can now test the connection.\n",
    "\n",
    "The following command uses PL/SQL syntax with will be translated by the virtualisation layer to access the PostgreSQL database."
   ]
  },
  {
   "cell_type": "code",
   "execution_count": 10,
   "id": "10e8aea3-2ca4-486c-94bc-6ec783948923",
   "metadata": {},
   "outputs": [
    {
     "name": "stdout",
     "output_type": "stream",
     "text": [
      "1 rows affected.\n"
     ]
    },
    {
     "data": {
      "text/html": [
       "<table>\n",
       "    <thead>\n",
       "        <tr>\n",
       "            <th>BANNER</th>\n",
       "        </tr>\n",
       "    </thead>\n",
       "    <tbody>\n",
       "        <tr>\n",
       "            <td>PostgreSQL 14.9 (Debian 14.9-1.pgdg110+1) on x86_64-pc-linux-gnu, compiled by gcc (Debian 10.2.1-6) 10.2.1 20210110, 64-bit</td>\n",
       "        </tr>\n",
       "    </tbody>\n",
       "</table>"
      ],
      "text/plain": [
       "[('PostgreSQL 14.9 (Debian 14.9-1.pgdg110+1) on x86_64-pc-linux-gnu, compiled by gcc (Debian 10.2.1-6) 10.2.1 20210110, 64-bit',)]"
      ]
     },
     "execution_count": 10,
     "metadata": {},
     "output_type": "execute_result"
    }
   ],
   "source": [
    "%%sql {LGW}\n",
    "select BANNER FROM v$version"
   ]
  },
  {
   "cell_type": "markdown",
   "id": "ece0383c-6300-4406-b7ef-36124fdd8201",
   "metadata": {},
   "source": [
    "# Stage 2. Migration\n",
    "\n",
    "The following section shows the migration of the schema and data from the Oracle database to PostgreSQL. This uses the Liberatii Data Platform to perform the following steps:\n",
    "\n",
    "1. Configuration, connection setup and initialisation\n",
    "3. Schema Migration\n",
    "4. Data Migration\n",
    "5. Testing and verification\n",
    "\n",
    "## Configuration\n",
    "\n",
    "The following cells will construct the required connection information. Each connection (Oracle, PostgreSQL and the Liberatii Gateway) will be created in turn.\n",
    "\n",
    "### Oracle"
   ]
  },
  {
   "cell_type": "code",
   "execution_count": 20,
   "id": "9ae56db7-8eac-4ace-a5e5-d4d4a577043e",
   "metadata": {},
   "outputs": [
    {
     "name": "stdout",
     "output_type": "stream",
     "text": [
      "{\"type\":\"Oracle\",\"connectionString\":\"(DESCRIPTION=(ADDRESS=(PROTOCOL=TCP)(HOST=oracle)(PORT=1521))(CONNECT_DATA=(SERVICE_NAME=pdborcl)))\",\"user\":\"HR\",\"password\":\"hr\",\"id\":1}"
     ]
    }
   ],
   "source": [
    "!curl {API_PREFIX}/connection -H \"Content-Type: application/json\" \\\n",
    "   -d '{{\"type\":\"Oracle\",\"connectionString\":\"{ORACLE_CONN_STR}\",\"user\":\"{USER}\",\"password\":\"{PSWD}\",\"id\":1}}'"
   ]
  },
  {
   "cell_type": "markdown",
   "id": "8db62a11-5165-4f8b-a217-10b7bcee4fa9",
   "metadata": {},
   "source": [
    "### PostgreSQL"
   ]
  },
  {
   "cell_type": "code",
   "execution_count": 41,
   "id": "18de9543-edc4-45ae-9569-8232022b910f",
   "metadata": {},
   "outputs": [
    {
     "name": "stdout",
     "output_type": "stream",
     "text": [
      "{\"type\":\"PostgreSQL\",\"host\":\"postgres\",\"port\":5432,\"database\":\"pdborcl\",\"user\":\"HR\",\"password\":\"hr\",\"id\":2}"
     ]
    }
   ],
   "source": [
    "!curl {API_PREFIX}/connection -H 'Content-Type: application/json' \\\n",
    "  -d '{{\"type\":\"PostgreSQL\",\"host\":\"{PG_HOST}\",\"port\":5432,\"database\":\"{DB}\",\"user\":\"{USER}\",\"password\":\"{PSWD}\",\"id\":2}}'"
   ]
  },
  {
   "cell_type": "markdown",
   "id": "a6145dd8-2462-4877-b964-2ce9e05d3e20",
   "metadata": {},
   "source": [
    "### Liberatii Gateway:"
   ]
  },
  {
   "cell_type": "code",
   "execution_count": 47,
   "id": "f7cea7be-cc42-456d-80fd-efd7cbda1048",
   "metadata": {},
   "outputs": [
    {
     "name": "stdout",
     "output_type": "stream",
     "text": [
      "{\"type\":\"LGW\",\"host\":\"pgtranslator\",\"port\":15432,\"database\":\"pdborcl\",\"user\":\"HR\",\"password\":\"hr\",\"id\":3}"
     ]
    }
   ],
   "source": [
    "!curl {API_PREFIX}/connection -H 'Content-Type: application/json' \\\n",
    "  -d '{{\"type\":\"LGW\",\"host\":\"{LGW_HOST}\",\"port\":{LGW_PORT},\"database\":\"{DB}\",\"user\":\"{USER}\",\"password\":\"{PSWD}\", \"id\":3}}'"
   ]
  },
  {
   "cell_type": "markdown",
   "id": "c9264ec2-a546-4359-ab2e-c8e63cf5aaad",
   "metadata": {},
   "source": [
    "### Configuration Parameters\n",
    "\n",
    "The following configuration parameters are used for this demonstration. Please check the reference document to get all the available parameters.\n",
    "\n",
    "* `dataOnePass`<br/>\n",
    "  Don't use staging files or tables, just transfer all the data from the source to the target\n",
    "* `user`<br/>\n",
    "  List of schemas to transfer between the sources and target target\n",
    "* `verbose`<br/>\n",
    "  Log verbosity\n",
    "* `eraseOnInit`<br/>\n",
    "  Delete everything from the schema in the init stage, this is useful if we often restart the migration."
   ]
  },
  {
   "cell_type": "code",
   "execution_count": 48,
   "id": "7647127c-810b-4c72-beb3-371f20d137f8",
   "metadata": {},
   "outputs": [
    {
     "name": "stdout",
     "output_type": "stream",
     "text": [
      "{\"message\":\"Config has been set successfully\",\"config\":{\"dataOnePass\":true,\"verbose\":4,\"useCopy\":true,\"dataIterations\":-1,\"useWrapper\":true,\"useNative\":false,\"useUnlogged\":false,\"stat\":true,\"statDB\":false,\"rowsBuf\":1000,\"lightCheck\":false,\"dataChunkSize\":-1,\"bigTablesFirst\":true,\"debReverseOrder\":false,\"cli\":true,\"rmStagingFiles\":true,\"parTables\":true,\"hashType\":\"murmur\",\"simulateUnsupportedTypes\":true,\"blobStreams\":true,\"clobStreams\":false,\"blobImmed\":false,\"clobImmed\":false,\"dumpCopy\":false,\"dryRun\":false,\"noBlobs\":false,\"idCol\":\"rowid\",\"idColByTable\":{},\"activeSqlFiles\":[],\"numTries\":10,\"maxWait\":60000,\"ignoreTrim\":true,\"removeLastFetchFirst\":false,\"checkMetaData\":true,\"users\":[\"HR\"],\"linkedServers\":[],\"stages\":{},\"workloadsFiles\":\"\",\"eraseOnInit\":true}}"
     ]
    }
   ],
   "source": [
    "!curl {API_PREFIX}/config -H 'Content-Type: application/json' \\\n",
    "  -d '{{\"dataOnePass\": true, \"users\":[\"{USER}\"], \"verbose\":4, \"eraseOnInit\":true}}'"
   ]
  },
  {
   "cell_type": "markdown",
   "id": "f0adc847-95b5-46c6-a4a5-413bea131c29",
   "metadata": {},
   "source": [
    "### Initialisation\n",
    "\n",
    "This is an initialisation operation. The framework runs simple assessments and stores the results in the target database. The operation is asynchronous: it just schedules the operation and exists immediately."
   ]
  },
  {
   "cell_type": "code",
   "execution_count": 49,
   "id": "ab14a2c2-f341-4080-b9b7-16615e0364b9",
   "metadata": {},
   "outputs": [
    {
     "name": "stdout",
     "output_type": "stream",
     "text": [
      "{\"message\":\"Config has been set successfully.\",\"config\":{\"title\":\"init\",\"status\":\"Running\",\"messages\":[],\"progress\":0}}"
     ]
    }
   ],
   "source": [
    "!curl {API_PREFIX}/operation -H 'Content-Type: application/json' -d '{{ \"oracle\": 1, \"lgw\": 3, \"stage\": \"init\" }}'"
   ]
  },
  {
   "cell_type": "markdown",
   "id": "3025db03-016f-4e6a-8c5d-7d977b0f0812",
   "metadata": {},
   "source": [
    "Using this operation we can get the current state of the currently running operation:"
   ]
  },
  {
   "cell_type": "code",
   "execution_count": 50,
   "id": "0ef3df1f-d5bd-4a9a-a52a-ef95846ed4b1",
   "metadata": {},
   "outputs": [
    {
     "name": "stdout",
     "output_type": "stream",
     "text": [
      "{\"title\":\"init\",\"status\":\"Running\",\"messages\":[{\"level\":\"Info\",\"message\":[[\"Type\",\"I\",\"Total\"],[\"TABLE\",\"7\",\"7\"],[\"PROCEDURE\",\"2\",\"2\"],[\"SEQUENCE\",\"3\",\"3\"],[\"INDEX\",\"11\",\"11\"],[\"VIEW\",\"1\",\"1\"],[\"^+Total:^:\",\"24\",\"^+24^\"]]}],\"progress\":0}"
     ]
    }
   ],
   "source": [
    "!curl {API_PREFIX}/operation?pager=1 -H 'Content-Type: application/json'"
   ]
  },
  {
   "cell_type": "markdown",
   "id": "945d87db-1057-4e19-b1b0-ea7e97591f34",
   "metadata": {},
   "source": [
    "And the next operatoin is the same as the previous one, except it waits until the current operation ends."
   ]
  },
  {
   "cell_type": "code",
   "execution_count": 51,
   "id": "6f4d48ec-b5e8-4f72-837e-08506e7e5956",
   "metadata": {},
   "outputs": [
    {
     "name": "stdout",
     "output_type": "stream",
     "text": [
      "{\"title\":\"init\",\"status\":\"Running\",\"messages\":[{\"level\":\"Info\",\"message\":\"\\n^g^+DONE! 👍^:\\n\"},{\"level\":\"Info\",\"message\":[[\"Type\",\"I\",\"Total\"],[\"TABLE\",\"7\",\"7\"],[\"PROCEDURE\",\"2\",\"2\"],[\"SEQUENCE\",\"3\",\"3\"],[\"INDEX\",\"11\",\"11\"],[\"VIEW\",\"1\",\"1\"],[\"^+Total:^:\",\"24\",\"^+24^\"]]}],\"progress\":0}"
     ]
    }
   ],
   "source": [
    "!curl -X POST {API_PREFIX}/operation/wait -H 'Content-Type: application/json'"
   ]
  },
  {
   "cell_type": "markdown",
   "id": "ba6de177-165e-41e9-99db-4ce2f51dac99",
   "metadata": {},
   "source": [
    "## Schema migration\n",
    "\n",
    "Now, after `init` stage is done, we have all the necessary information for migrating the database schema.\n",
    "\n",
    "This information is stored in the PostgreSQL database allowing us to run various queries on it. For example, we can query the number of objects of each type by running with the query:\n"
   ]
  },
  {
   "cell_type": "code",
   "execution_count": 52,
   "id": "041a9fee-5648-4049-a679-5ea1820153f9",
   "metadata": {},
   "outputs": [
    {
     "name": "stdout",
     "output_type": "stream",
     "text": [
      "5 rows affected.\n"
     ]
    },
    {
     "data": {
      "text/html": [
       "<table>\n",
       "    <thead>\n",
       "        <tr>\n",
       "            <th>count</th>\n",
       "            <th>type</th>\n",
       "            <th>stage</th>\n",
       "            <th>error</th>\n",
       "        </tr>\n",
       "    </thead>\n",
       "    <tbody>\n",
       "        <tr>\n",
       "            <td>11</td>\n",
       "            <td>INDEX</td>\n",
       "            <td>I</td>\n",
       "            <td>None</td>\n",
       "        </tr>\n",
       "        <tr>\n",
       "            <td>2</td>\n",
       "            <td>PROCEDURE</td>\n",
       "            <td>I</td>\n",
       "            <td>None</td>\n",
       "        </tr>\n",
       "        <tr>\n",
       "            <td>7</td>\n",
       "            <td>TABLE</td>\n",
       "            <td>I</td>\n",
       "            <td>None</td>\n",
       "        </tr>\n",
       "        <tr>\n",
       "            <td>3</td>\n",
       "            <td>SEQUENCE</td>\n",
       "            <td>I</td>\n",
       "            <td>None</td>\n",
       "        </tr>\n",
       "        <tr>\n",
       "            <td>1</td>\n",
       "            <td>VIEW</td>\n",
       "            <td>I</td>\n",
       "            <td>None</td>\n",
       "        </tr>\n",
       "    </tbody>\n",
       "</table>"
      ],
      "text/plain": [
       "[(11, 'INDEX', 'I', None),\n",
       " (2, 'PROCEDURE', 'I', None),\n",
       " (7, 'TABLE', 'I', None),\n",
       " (3, 'SEQUENCE', 'I', None),\n",
       " (1, 'VIEW', 'I', None)]"
      ]
     },
     "execution_count": 52,
     "metadata": {},
     "output_type": "execute_result"
    }
   ],
   "source": [
    "%%sql {PG}\n",
    "select count(*), type, stage, error from dbt.migration_objects group by type, stage, error"
   ]
  },
  {
   "cell_type": "markdown",
   "id": "18a3df02-6ef0-41f5-b495-1d6af688e51a",
   "metadata": {},
   "source": [
    "If there were any errors during the execution of any stage, they will be displayed in `error` stage. The errors can be manually fixed by modifying `ddl1`, `ddl2` columns of `dbt.migration_objects` or by adding some runtime objects. \n",
    "\n",
    "When errors are fixed we don't need to run the whole migration from the beginning. It's enough to reset only the problematic objects' `stage` field and restart the stage. Only those objects migration will be re-run.\n",
    "\n",
    "Now starting the schema migration, with the same parameters as with `init` stage, but with `schema` as the stage name.\n",
    "\n",
    "The schema migration doesn't migrate constraints, indexes and triggers. They are migrated in `constraints` stage. This is done to make data migration run faster.\n",
    "\n",
    "We can also run several instances of each operation. In this case, the migration will run in parallel this way speeding it up significantly. Even a single table data migration can be parallelised.\n"
   ]
  },
  {
   "cell_type": "code",
   "execution_count": 54,
   "id": "c92e2f34-a23b-4c1c-93cd-9a708366cbfb",
   "metadata": {},
   "outputs": [
    {
     "name": "stdout",
     "output_type": "stream",
     "text": [
      "{\"message\":\"Config has been set successfully.\",\"config\":{\"title\":\"init\",\"status\":\"Running\",\"messages\":[],\"progress\":0}}"
     ]
    }
   ],
   "source": [
    "!curl {API_PREFIX}/operation -H 'Content-Type: application/json' -d '{{ \"oracle\": 1, \"lgw\": 3, \"stage\": \"schema\" }}'"
   ]
  },
  {
   "cell_type": "markdown",
   "id": "43a44b40-d95c-4f0b-af77-926730ab1e41",
   "metadata": {},
   "source": [
    "Again, waiting until this task is finished:\n"
   ]
  },
  {
   "cell_type": "code",
   "execution_count": 55,
   "id": "a198b763-aa92-47a5-8384-162897801b86",
   "metadata": {},
   "outputs": [
    {
     "name": "stdout",
     "output_type": "stream",
     "text": [
      "{\"title\":\"schema\",\"status\":\"Running\",\"messages\":[{\"level\":\"Info\",\"message\":\"^+👍^: ^gDONE!^: translating TABLE \\\"HR\\\".\\\"COUNTRIES\\\"\\n\"},{\"level\":\"Info\",\"message\":\"^+👍^: ^gDONE!^: translating TABLE \\\"HR\\\".\\\"JOB_HISTORY\\\"\\n\"},{\"level\":\"Info\",\"message\":\"^+👍^: ^gDONE!^: translating SEQUENCE \\\"HR\\\".\\\"EMPLOYEES_SEQ\\\"\\n\"},{\"level\":\"Info\",\"message\":\"^+👍^: ^gDONE!^: translating TABLE \\\"HR\\\".\\\"JOBS\\\"\\n\"},{\"level\":\"Info\",\"message\":\"^+👍^: ^gDONE!^: translating TABLE \\\"HR\\\".\\\"EMPLOYEES\\\"\\n\"},{\"level\":\"Info\",\"message\":\"^+👍^: ^gDONE!^: translating TABLE \\\"HR\\\".\\\"LOCATIONS\\\"\\n\"},{\"level\":\"Info\",\"message\":\"^+👍^: ^gDONE!^: translating TABLE \\\"HR\\\".\\\"REGIONS\\\"\\n\"},{\"level\":\"Info\",\"message\":\"^+👍^: ^gDONE!^: translating PROCEDURE \\\"HR\\\".\\\"SECURE_DML\\\"\\n\"},{\"level\":\"Info\",\"message\":\"^+👍^: ^gDONE!^: translating SEQUENCE \\\"HR\\\".\\\"DEPARTMENTS_SEQ\\\"\\n\"},{\"level\":\"Info\",\"message\":\"^+👍^: ^gDONE!^: translating SEQUENCE \\\"HR\\\".\\\"LOCATIONS_SEQ\\\"\\n\"},{\"level\":\"Info\",\"message\":\"^+👍^: ^gDONE!^: translating TABLE \\\"HR\\\".\\\"DEPARTMENTS\\\"\\n\"},{\"level\":\"Info\",\"message\":\"^+👍^: ^gDONE!^: translating VIEW \\\"HR\\\".\\\"EMP_DETAILS_VIEW\\\"\\n\"},{\"level\":\"Info\",\"message\":\"^+👍^: ^gDONE!^: translating PROCEDURE \\\"HR\\\".\\\"ADD_JOB_HISTORY\\\"\\n\"},{\"level\":\"Info\",\"message\":\"\\n^g^+DONE! 👍^:\\n\"},{\"level\":\"Info\",\"message\":[[\"Type\",\"I\",\"D\",\"Total\"],[\"TABLE\",\"\",\"^g7^\",\"7\"],[\"VIEW\",\"\",\"^g1^\",\"1\"],[\"INDEX\",\"11\",\"\",\"11\"],[\"SEQUENCE\",\"\",\"^g3^\",\"3\"],[\"PROCEDURE\",\"\",\"^g2^\",\"2\"],[\"^+Total:^:\",\"11\",\"^g^+13^\",\"^+24^\"]]}],\"progress\":1}"
     ]
    }
   ],
   "source": [
    "!curl -X POST {API_PREFIX}/operation/wait -H 'Content-Type: application/json'"
   ]
  },
  {
   "cell_type": "markdown",
   "id": "d0b8359c-4bc0-48d9-9f51-008c48a07924",
   "metadata": {},
   "source": [
    "In the `init` stage the framework also queries the sizes of each table. Using them we can get the most optimal strategy for copying the data.\n",
    "\n",
    "So let's see the sizes:\n"
   ]
  },
  {
   "cell_type": "code",
   "execution_count": 56,
   "id": "ef0a0cd1-a601-401f-86a5-2a0038a00afa",
   "metadata": {},
   "outputs": [
    {
     "name": "stdout",
     "output_type": "stream",
     "text": [
      "7 rows affected.\n"
     ]
    },
    {
     "data": {
      "text/html": [
       "<table>\n",
       "    <thead>\n",
       "        <tr>\n",
       "            <th>name</th>\n",
       "            <th>pg_size_pretty</th>\n",
       "            <th>stage</th>\n",
       "        </tr>\n",
       "    </thead>\n",
       "    <tbody>\n",
       "        <tr>\n",
       "            <td>EMPLOYEES</td>\n",
       "            <td>64 kB</td>\n",
       "            <td>D</td>\n",
       "        </tr>\n",
       "        <tr>\n",
       "            <td>LOCATIONS</td>\n",
       "            <td>64 kB</td>\n",
       "            <td>D</td>\n",
       "        </tr>\n",
       "        <tr>\n",
       "            <td>REGIONS</td>\n",
       "            <td>64 kB</td>\n",
       "            <td>D</td>\n",
       "        </tr>\n",
       "        <tr>\n",
       "            <td>JOBS</td>\n",
       "            <td>64 kB</td>\n",
       "            <td>D</td>\n",
       "        </tr>\n",
       "        <tr>\n",
       "            <td>JOB_HISTORY</td>\n",
       "            <td>64 kB</td>\n",
       "            <td>D</td>\n",
       "        </tr>\n",
       "        <tr>\n",
       "            <td>DEPARTMENTS</td>\n",
       "            <td>64 kB</td>\n",
       "            <td>D</td>\n",
       "        </tr>\n",
       "        <tr>\n",
       "            <td>COUNTRIES</td>\n",
       "            <td>0 bytes</td>\n",
       "            <td>D</td>\n",
       "        </tr>\n",
       "    </tbody>\n",
       "</table>"
      ],
      "text/plain": [
       "[('EMPLOYEES', '64 kB', 'D'),\n",
       " ('LOCATIONS', '64 kB', 'D'),\n",
       " ('REGIONS', '64 kB', 'D'),\n",
       " ('JOBS', '64 kB', 'D'),\n",
       " ('JOB_HISTORY', '64 kB', 'D'),\n",
       " ('DEPARTMENTS', '64 kB', 'D'),\n",
       " ('COUNTRIES', '0 bytes', 'D')]"
      ]
     },
     "execution_count": 56,
     "metadata": {},
     "output_type": "execute_result"
    }
   ],
   "source": [
    "%%sql {PG}\n",
    "select name, pg_size_pretty(data_size), stage from dbt.migration_objects where type = 'TABLE' order by data_size desc"
   ]
  },
  {
   "cell_type": "markdown",
   "id": "e0907048-07ed-430e-aa50-ee30ab89cee2",
   "metadata": {},
   "source": [
    "\n",
    "By analysing the sizes for different tables we can apply different strategies for different tables. But size the sizes are quire small for this schema we just use the default strategy everywhere.\n",
    "\n",
    "Now starting the data migration operation, as all the operations before, but with `data` as `stage` field value:\n"
   ]
  },
  {
   "cell_type": "code",
   "execution_count": 58,
   "id": "4e71cbe4-9d69-4330-9c49-ffcab378cb8c",
   "metadata": {},
   "outputs": [
    {
     "name": "stdout",
     "output_type": "stream",
     "text": [
      "{\"message\":\"Config has been set successfully.\",\"config\":{\"title\":\"init\",\"status\":\"Running\",\"messages\":[],\"progress\":0}}"
     ]
    }
   ],
   "source": [
    "!curl {API_PREFIX}/operation -H 'Content-Type: application/json' -d '{{ \"oracle\": 1, \"lgw\": 3, \"stage\": \"data\" }}'"
   ]
  },
  {
   "cell_type": "markdown",
   "id": "a83b3dff-8b12-462e-a1cb-0862c16d3fd5",
   "metadata": {},
   "source": [
    "Awaiting the operation to be completed:"
   ]
  },
  {
   "cell_type": "code",
   "execution_count": 59,
   "id": "25fde8c1-a533-4a49-bd22-c286ce7be411",
   "metadata": {},
   "outputs": [
    {
     "name": "stdout",
     "output_type": "stream",
     "text": [
      "{\"title\":\"data\",\"status\":\"Running\",\"messages\":[{\"level\":\"Info\",\"message\":\"^+👍^: ^gDONE!^: migrating data \\\"HR\\\".\\\"EMPLOYEES\\\"in 0.157s(exec=0.1269s,copy-stmt=0.0054s,rows=0.0001s,write=0.0053s,set-state=0.0104s)\\n\"},{\"level\":\"Info\",\"message\":\"^+👍^: ^gDONE!^: migrating data \\\"HR\\\".\\\"JOBS\\\"in 0.053s(exec=0.0365s,copy-stmt=0.0004s,rows=0.0001s,write=0.0003s,set-state=0.0127s)\\n\"},{\"level\":\"Info\",\"message\":\"^+👍^: ^gDONE!^: migrating data \\\"HR\\\".\\\"LOCATIONS\\\"in 0.055s(exec=0.0383s,copy-stmt=0.0005s,rows=0s,write=0.0005s,set-state=0.012s)\\n\"},{\"level\":\"Info\",\"message\":\"^+👍^: ^gDONE!^: migrating data \\\"HR\\\".\\\"REGIONS\\\"in 0.08s(exec=0.0397s,copy-stmt=0.0002s,rows=0s,write=0.0001s,set-state=0.0369s)\\n\"},{\"level\":\"Info\",\"message\":\"^+👍^: ^gDONE!^: migrating data \\\"HR\\\".\\\"JOB_HISTORY\\\"in 0.044s(exec=0.029s,copy-stmt=0.0003s,rows=0s,write=0.0003s,set-state=0.0118s)\\n\"},{\"level\":\"Info\",\"message\":\"^+👍^: ^gDONE!^: migrating data \\\"HR\\\".\\\"DEPARTMENTS\\\"in 0.056s(exec=0.0392s,copy-stmt=0.0004s,rows=0s,write=0.0004s,set-state=0.0124s)\\n\"},{\"level\":\"Info\",\"message\":\"^+👍^: ^gDONE!^: migrating data \\\"HR\\\".\\\"COUNTRIES\\\"in 0.065s(exec=0.0408s,copy-stmt=0.0003s,rows=0s,write=0.0003s,set-state=0.0155s)\\n\"},{\"level\":\"Info\",\"message\":\"\\n^g^+DONE! 👍^:\\n\"},{\"level\":\"Info\",\"message\":[[\"Type\",\"I\",\"D\",\"R\",\"Total\"],[\"VIEW\",\"\",\"^g1^\",\"\",\"1\"],[\"INDEX\",\"11\",\"\",\"\",\"11\"],[\"TABLE\",\"\",\"\",\"^g7^\",\"7\"],[\"SEQUENCE\",\"\",\"^g3^\",\"\",\"3\"],[\"PROCEDURE\",\"\",\"^g2^\",\"\",\"2\"],[\"^+Total:^:\",\"11\",\"^g^+6^\",\"^g^+7^\",\"^+24^\"]]}],\"progress\":1}"
     ]
    }
   ],
   "source": [
    "!curl -X POST {API_PREFIX}/operation/wait -H 'Content-Type: application/json'"
   ]
  },
  {
   "cell_type": "markdown",
   "id": "9828b68b-e42e-45f5-a429-f882d3e33d31",
   "metadata": {},
   "source": [
    "## Constraints\n",
    "This stage adds constraints, indexes and triggers to the data we've moved in the previous step:\n"
   ]
  },
  {
   "cell_type": "code",
   "execution_count": 60,
   "id": "11f6f1fc-a060-4d66-b2d3-e8621f8fcd85",
   "metadata": {
    "scrolled": true
   },
   "outputs": [
    {
     "name": "stdout",
     "output_type": "stream",
     "text": [
      "{\"message\":\"Config has been set successfully.\",\"config\":{\"title\":\"init\",\"status\":\"Running\",\"messages\":[],\"progress\":0}}"
     ]
    }
   ],
   "source": [
    "!curl {API_PREFIX}/operation -H 'Content-Type: application/json' -d '{{ \"oracle\": 1, \"lgw\": 3, \"stage\": \"constraints\" }}'"
   ]
  },
  {
   "cell_type": "markdown",
   "id": "c1281826-1560-470d-826c-b918befee826",
   "metadata": {},
   "source": [
    "Awaiting the operation to be completed:"
   ]
  },
  {
   "cell_type": "code",
   "execution_count": 61,
   "id": "5806fd48-f7f8-4104-a7d7-0d56ead0b5fb",
   "metadata": {},
   "outputs": [
    {
     "name": "stdout",
     "output_type": "stream",
     "text": [
      "{\"title\":\"constrants\",\"status\":\"Running\",\"messages\":[{\"level\":\"Info\",\"message\":\"^+👍^: ^gDONE!^ translating constraints for \\\"HR\\\".\\\"JOBS\\\"\\n\"},{\"level\":\"Info\",\"message\":\"^+👍^: ^gDONE!^ translating constraints for \\\"HR\\\".\\\"REGIONS\\\"\\n\"},{\"level\":\"Info\",\"message\":\"^+👍^: ^gDONE!^ translating constraints for \\\"HR\\\".\\\"COUNTRIES\\\"\\n\"},{\"level\":\"Info\",\"message\":\"^+👍^: ^gDONE!^ translating constraints for \\\"HR\\\".\\\"LOCATIONS\\\"\\n\"},{\"level\":\"Info\",\"message\":\"^+👍^: ^gDONE!^: translating INDEX \\\"HR\\\".\\\"JHIST_JOB_IX\\\"\\n\"},{\"level\":\"Info\",\"message\":\"^+👍^: ^gDONE!^: translating INDEX \\\"HR\\\".\\\"LOC_STATE_PROVINCE_IX\\\"\\n\"},{\"level\":\"Info\",\"message\":\"^+👍^: ^gDONE!^: translating INDEX \\\"HR\\\".\\\"JHIST_EMPLOYEE_IX\\\"\\n\"},{\"level\":\"Info\",\"message\":\"^+👍^: ^gDONE!^: translating INDEX \\\"HR\\\".\\\"LOC_CITY_IX\\\"\\n\"},{\"level\":\"Info\",\"message\":\"^+👍^: ^gDONE!^: translating INDEX \\\"HR\\\".\\\"JHIST_DEPARTMENT_IX\\\"\\n\"},{\"level\":\"Info\",\"message\":\"^+👍^: ^gDONE!^: translating INDEX \\\"HR\\\".\\\"EMP_MANAGER_IX\\\"\\n\"},{\"level\":\"Info\",\"message\":\"^+👍^: ^gDONE!^: translating INDEX \\\"HR\\\".\\\"DEPT_LOCATION_IX\\\"\\n\"},{\"level\":\"Info\",\"message\":\"^+👍^: ^gDONE!^: translating INDEX \\\"HR\\\".\\\"LOC_COUNTRY_IX\\\"\\n\"},{\"level\":\"Info\",\"message\":\"^+👍^: ^gDONE!^: translating INDEX \\\"HR\\\".\\\"EMP_DEPARTMENT_IX\\\"\\n\"},{\"level\":\"Info\",\"message\":\"^+👍^: ^gDONE!^: translating INDEX \\\"HR\\\".\\\"EMP_JOB_IX\\\"\\n\"},{\"level\":\"Info\",\"message\":\"^+👍^: ^gDONE!^: translating INDEX \\\"HR\\\".\\\"EMP_NAME_IX\\\"\\n\"},{\"level\":\"Info\",\"message\":\"\\n^g^+DONE! 👍^:\\n\"},{\"level\":\"Info\",\"message\":[[\"Type\",\"D\",\"R\",\"d\",\"Total\"],[\"VIEW\",\"^g1^\",\"\",\"\",\"1\"],[\"INDEX\",\"^g11^\",\"\",\"\",\"11\"],[\"TABLE\",\"\",\"^g3^\",\"^g4^\",\"7\"],[\"SEQUENCE\",\"^g3^\",\"\",\"\",\"3\"],[\"PROCEDURE\",\"^g2^\",\"\",\"\",\"2\"],[\"^+Total:^:\",\"^g^+17^\",\"^g^+3^\",\"^g^+4^\",\"^+24^\"]]}],\"progress\":1}"
     ]
    }
   ],
   "source": [
    "!curl -X POST {API_PREFIX}/operation/wait -H 'Content-Type: application/json'"
   ]
  },
  {
   "cell_type": "markdown",
   "id": "fc0cb080-7092-4579-ab6b-bcff09ebe941",
   "metadata": {},
   "source": [
    "Now we can verify the data in both databases are the same, by comparing each column hash sums:"
   ]
  },
  {
   "cell_type": "code",
   "execution_count": 62,
   "id": "682d5c2b-316a-44c4-929d-5a7db7e2e0a3",
   "metadata": {},
   "outputs": [
    {
     "name": "stdout",
     "output_type": "stream",
     "text": [
      "{\"message\":\"Config has been set successfully.\",\"config\":{\"title\":\"init\",\"status\":\"Running\",\"messages\":[],\"progress\":0}}"
     ]
    }
   ],
   "source": [
    "!curl {API_PREFIX}/operation -H 'Content-Type: application/json' -d '{{ \"oracle\": 1, \"lgw\": 3, \"stage\": \"check\" }}'"
   ]
  },
  {
   "cell_type": "code",
   "execution_count": 63,
   "id": "f822fe8f-d519-46d3-81ac-41fb99848a3b",
   "metadata": {},
   "outputs": [
    {
     "name": "stdout",
     "output_type": "stream",
     "text": [
      "{\"title\":\"check\",\"status\":\"Running\",\"messages\":[{\"level\":\"Info\",\"message\":\"🤞 checking \\\"HR\\\".\\\"EMPLOYEES\\\" (0.06M)...\\n\"},{\"level\":\"Info\",\"message\":\"^+👍^: ^gDONE!^: checking data \\\"HR\\\".\\\"EMPLOYEES\\\"\\n\"},{\"level\":\"Info\",\"message\":\"🤞 checking \\\"HR\\\".\\\"JOBS\\\" (0.06M)...\\n\"},{\"level\":\"Info\",\"message\":\"^+👍^: ^gDONE!^: checking data \\\"HR\\\".\\\"JOBS\\\"\\n\"},{\"level\":\"Info\",\"message\":\"🤞 checking \\\"HR\\\".\\\"REGIONS\\\" (0.06M)...\\n\"},{\"level\":\"Info\",\"message\":\"^+👍^: ^gDONE!^: checking data \\\"HR\\\".\\\"REGIONS\\\"\\n\"},{\"level\":\"Info\",\"message\":\"🤞 checking \\\"HR\\\".\\\"LOCATIONS\\\" (0.06M)...\\n\"},{\"level\":\"Info\",\"message\":\"^+👍^: ^gDONE!^: checking data \\\"HR\\\".\\\"LOCATIONS\\\"\\n\"},{\"level\":\"Info\",\"message\":\"🤞 checking \\\"HR\\\".\\\"JOB_HISTORY\\\" (0.06M)...\\n\"},{\"level\":\"Info\",\"message\":\"^+👍^: ^gDONE!^: checking data \\\"HR\\\".\\\"JOB_HISTORY\\\"\\n\"},{\"level\":\"Info\",\"message\":\"🤞 checking \\\"HR\\\".\\\"DEPARTMENTS\\\" (0.06M)...\\n\"},{\"level\":\"Info\",\"message\":\"^+👍^: ^gDONE!^: checking data \\\"HR\\\".\\\"DEPARTMENTS\\\"\\n\"},{\"level\":\"Info\",\"message\":\"🤞 checking \\\"HR\\\".\\\"COUNTRIES\\\" (0M)...\\n\"},{\"level\":\"Info\",\"message\":\"^+👍^: ^gDONE!^: checking data \\\"HR\\\".\\\"COUNTRIES\\\"\\n\"},{\"level\":\"Info\",\"message\":\"\\n^g^+DONE! 👍^:\\n\"},{\"level\":\"Info\",\"message\":[[\"Type\",\"D\",\"K\",\"Total\"],[\"VIEW\",\"^g1^\",\"\",\"1\"],[\"INDEX\",\"^g11^\",\"\",\"11\"],[\"SEQUENCE\",\"^g3^\",\"\",\"3\"],[\"TABLE\",\"\",\"^g7^\",\"7\"],[\"PROCEDURE\",\"^g2^\",\"\",\"2\"],[\"^+Total:^:\",\"^g^+17^\",\"^g^+7^\",\"^+24^\"]]}],\"progress\":1}"
     ]
    }
   ],
   "source": [
    "!curl -X POST {API_PREFIX}/operation/wait -H 'Content-Type: application/json'"
   ]
  },
  {
   "cell_type": "markdown",
   "id": "b29f3c0c-3faa-45c3-8106-59f2b7bbb478",
   "metadata": {},
   "source": [
    "This is it, now the whole database is migrated. Please see the guide document for the information about different migration options.\n",
    "\n",
    "## Running queries\n",
    "\n",
    "Let's now run a few queries in the both databases to see the results are identical. There is a `checksql` stage to do this automatically, but for the demo purposes we do this manually.\n",
    "\n",
    "So first we check the databases are indeed Oracle nad PostgreSQL"
   ]
  },
  {
   "cell_type": "code",
   "execution_count": 64,
   "id": "770f2d18-0594-4572-ae0e-b14d26ba695b",
   "metadata": {},
   "outputs": [
    {
     "name": "stdout",
     "output_type": "stream",
     "text": [
      "0 rows affected.\n"
     ]
    },
    {
     "data": {
      "text/html": [
       "<table>\n",
       "    <thead>\n",
       "        <tr>\n",
       "            <th>banner</th>\n",
       "        </tr>\n",
       "    </thead>\n",
       "    <tbody>\n",
       "        <tr>\n",
       "            <td>Oracle Database 19c Enterprise Edition Release 19.0.0.0.0 - Production</td>\n",
       "        </tr>\n",
       "    </tbody>\n",
       "</table>"
      ],
      "text/plain": [
       "[('Oracle Database 19c Enterprise Edition Release 19.0.0.0.0 - Production',)]"
      ]
     },
     "execution_count": 64,
     "metadata": {},
     "output_type": "execute_result"
    }
   ],
   "source": [
    "%%sql {ORACLE}\n",
    "select banner from v$version"
   ]
  },
  {
   "cell_type": "code",
   "execution_count": 65,
   "id": "f5553f78-56b0-4524-a280-2e89ccb2c3bf",
   "metadata": {},
   "outputs": [
    {
     "name": "stdout",
     "output_type": "stream",
     "text": [
      "1 rows affected.\n"
     ]
    },
    {
     "data": {
      "text/html": [
       "<table>\n",
       "    <thead>\n",
       "        <tr>\n",
       "            <th>BANNER</th>\n",
       "        </tr>\n",
       "    </thead>\n",
       "    <tbody>\n",
       "        <tr>\n",
       "            <td>PostgreSQL 14.9 (Debian 14.9-1.pgdg110+1) on x86_64-pc-linux-gnu, compiled by gcc (Debian 10.2.1-6) 10.2.1 20210110, 64-bit</td>\n",
       "        </tr>\n",
       "    </tbody>\n",
       "</table>"
      ],
      "text/plain": [
       "[('PostgreSQL 14.9 (Debian 14.9-1.pgdg110+1) on x86_64-pc-linux-gnu, compiled by gcc (Debian 10.2.1-6) 10.2.1 20210110, 64-bit',)]"
      ]
     },
     "execution_count": 65,
     "metadata": {},
     "output_type": "execute_result"
    }
   ],
   "source": [
    "%%sql {LGW}\n",
    "select banner from v$version"
   ]
  },
  {
   "cell_type": "markdown",
   "id": "dd24613a-7916-4664-a207-5674900ce101",
   "metadata": {},
   "source": [
    "The output value on PostgreSQL can be configured to output exactly the same like Oracle if the application uses the data for some business logic selection.\n",
    "\n",
    "Now let's run the same query in both databases."
   ]
  },
  {
   "cell_type": "code",
   "execution_count": 66,
   "id": "00efd189-dcde-4112-8626-5e88ab0161ee",
   "metadata": {},
   "outputs": [],
   "source": [
    "QUERY=\"\"\"\n",
    "SELECT first_name  || ' ' ||  last_name full_name,\n",
    "       salary + \n",
    "       NVL  (commission_pct, 0) sal_com, \n",
    "       DECODE (NVL(e.department_id, -3), 60, d.department_name, \n",
    "                                50, d.department_name, \n",
    "                                30, d.department_name, \n",
    "                                -3, 'UNKNOWN',\n",
    "               'OTHER') dep,\n",
    "       TO_CHAR(e.hire_date) hire_date\n",
    "  FROM employees e, departments d\n",
    " WHERE d.department_id(+) = e.department_id\n",
    "   AND e.last_name like 'G%'\n",
    "ORDER BY first_name  ||  ' '  ||  last_name\n",
    "\"\"\""
   ]
  },
  {
   "cell_type": "markdown",
   "id": "827768b9-03cd-45e8-b510-fca878aeb5ec",
   "metadata": {},
   "source": [
    "First running it on Oracle:"
   ]
  },
  {
   "cell_type": "code",
   "execution_count": 67,
   "id": "d41b3ece-2541-4288-8f74-3b3abc6faac2",
   "metadata": {},
   "outputs": [
    {
     "name": "stdout",
     "output_type": "stream",
     "text": [
      "0 rows affected.\n"
     ]
    },
    {
     "data": {
      "text/html": [
       "<table>\n",
       "    <thead>\n",
       "        <tr>\n",
       "            <th>full_name</th>\n",
       "            <th>sal_com</th>\n",
       "            <th>dep</th>\n",
       "            <th>hire_date</th>\n",
       "        </tr>\n",
       "    </thead>\n",
       "    <tbody>\n",
       "        <tr>\n",
       "            <td>Danielle Greene</td>\n",
       "            <td>9500.15</td>\n",
       "            <td>OTHER</td>\n",
       "            <td>19-MAR-07</td>\n",
       "        </tr>\n",
       "        <tr>\n",
       "            <td>Douglas Grant</td>\n",
       "            <td>2600</td>\n",
       "            <td>Shipping</td>\n",
       "            <td>13-JAN-08</td>\n",
       "        </tr>\n",
       "        <tr>\n",
       "            <td>Girard Geoni</td>\n",
       "            <td>2800</td>\n",
       "            <td>Shipping</td>\n",
       "            <td>03-FEB-08</td>\n",
       "        </tr>\n",
       "        <tr>\n",
       "            <td>Ki Gee</td>\n",
       "            <td>2400</td>\n",
       "            <td>Shipping</td>\n",
       "            <td>12-DEC-07</td>\n",
       "        </tr>\n",
       "        <tr>\n",
       "            <td>Kimberely Grant</td>\n",
       "            <td>7000.15</td>\n",
       "            <td>UNKNOWN</td>\n",
       "            <td>24-MAY-07</td>\n",
       "        </tr>\n",
       "        <tr>\n",
       "            <td>Nancy Greenberg</td>\n",
       "            <td>12008</td>\n",
       "            <td>OTHER</td>\n",
       "            <td>17-AUG-02</td>\n",
       "        </tr>\n",
       "        <tr>\n",
       "            <td>Timothy Gates</td>\n",
       "            <td>2900</td>\n",
       "            <td>Shipping</td>\n",
       "            <td>11-JUL-06</td>\n",
       "        </tr>\n",
       "        <tr>\n",
       "            <td>William Gietz</td>\n",
       "            <td>8300</td>\n",
       "            <td>OTHER</td>\n",
       "            <td>07-JUN-02</td>\n",
       "        </tr>\n",
       "    </tbody>\n",
       "</table>"
      ],
      "text/plain": [
       "[('Danielle Greene', Decimal('9500.15'), 'OTHER', '19-MAR-07'),\n",
       " ('Douglas Grant', 2600, 'Shipping', '13-JAN-08'),\n",
       " ('Girard Geoni', 2800, 'Shipping', '03-FEB-08'),\n",
       " ('Ki Gee', 2400, 'Shipping', '12-DEC-07'),\n",
       " ('Kimberely Grant', Decimal('7000.15'), 'UNKNOWN', '24-MAY-07'),\n",
       " ('Nancy Greenberg', 12008, 'OTHER', '17-AUG-02'),\n",
       " ('Timothy Gates', 2900, 'Shipping', '11-JUL-06'),\n",
       " ('William Gietz', 8300, 'OTHER', '07-JUN-02')]"
      ]
     },
     "execution_count": 67,
     "metadata": {},
     "output_type": "execute_result"
    }
   ],
   "source": [
    "%%sql {ORACLE} \n",
    "\n",
    "{QUERY}\n"
   ]
  },
  {
   "cell_type": "markdown",
   "id": "bd9241d3-4a92-4fef-b737-1d921cc651b1",
   "metadata": {},
   "source": [
    "And now running absolutely the same query but on PostgreSQL via Liberatii Gateway:"
   ]
  },
  {
   "cell_type": "code",
   "execution_count": 68,
   "id": "580387f1-0f6f-47cc-b508-a508379c2a77",
   "metadata": {},
   "outputs": [
    {
     "name": "stdout",
     "output_type": "stream",
     "text": [
      "8 rows affected.\n"
     ]
    },
    {
     "data": {
      "text/html": [
       "<table>\n",
       "    <thead>\n",
       "        <tr>\n",
       "            <th>FULL_NAME</th>\n",
       "            <th>SAL_COM</th>\n",
       "            <th>DEP</th>\n",
       "            <th>HIRE_DATE</th>\n",
       "        </tr>\n",
       "    </thead>\n",
       "    <tbody>\n",
       "        <tr>\n",
       "            <td>Danielle Greene</td>\n",
       "            <td>9500.15</td>\n",
       "            <td>OTHER</td>\n",
       "            <td>19-MAR-07</td>\n",
       "        </tr>\n",
       "        <tr>\n",
       "            <td>Douglas Grant</td>\n",
       "            <td>2600.00</td>\n",
       "            <td>Shipping</td>\n",
       "            <td>13-JAN-08</td>\n",
       "        </tr>\n",
       "        <tr>\n",
       "            <td>Girard Geoni</td>\n",
       "            <td>2800.00</td>\n",
       "            <td>Shipping</td>\n",
       "            <td>03-FEB-08</td>\n",
       "        </tr>\n",
       "        <tr>\n",
       "            <td>Ki Gee</td>\n",
       "            <td>2400.00</td>\n",
       "            <td>Shipping</td>\n",
       "            <td>12-DEC-07</td>\n",
       "        </tr>\n",
       "        <tr>\n",
       "            <td>Kimberely Grant</td>\n",
       "            <td>7000.15</td>\n",
       "            <td>UNKNOWN</td>\n",
       "            <td>24-MAY-07</td>\n",
       "        </tr>\n",
       "        <tr>\n",
       "            <td>Nancy Greenberg</td>\n",
       "            <td>12008.00</td>\n",
       "            <td>OTHER</td>\n",
       "            <td>17-AUG-02</td>\n",
       "        </tr>\n",
       "        <tr>\n",
       "            <td>Timothy Gates</td>\n",
       "            <td>2900.00</td>\n",
       "            <td>Shipping</td>\n",
       "            <td>11-JUL-06</td>\n",
       "        </tr>\n",
       "        <tr>\n",
       "            <td>William Gietz</td>\n",
       "            <td>8300.00</td>\n",
       "            <td>OTHER</td>\n",
       "            <td>07-JUN-02</td>\n",
       "        </tr>\n",
       "    </tbody>\n",
       "</table>"
      ],
      "text/plain": [
       "[('Danielle Greene', Decimal('9500.15'), 'OTHER', '19-MAR-07'),\n",
       " ('Douglas Grant', Decimal('2600.00'), 'Shipping', '13-JAN-08'),\n",
       " ('Girard Geoni', Decimal('2800.00'), 'Shipping', '03-FEB-08'),\n",
       " ('Ki Gee', Decimal('2400.00'), 'Shipping', '12-DEC-07'),\n",
       " ('Kimberely Grant', Decimal('7000.15'), 'UNKNOWN', '24-MAY-07'),\n",
       " ('Nancy Greenberg', Decimal('12008.00'), 'OTHER', '17-AUG-02'),\n",
       " ('Timothy Gates', Decimal('2900.00'), 'Shipping', '11-JUL-06'),\n",
       " ('William Gietz', Decimal('8300.00'), 'OTHER', '07-JUN-02')]"
      ]
     },
     "execution_count": 68,
     "metadata": {},
     "output_type": "execute_result"
    }
   ],
   "source": [
    "%%sql {LGW}\n",
    "\n",
    "{QUERY}"
   ]
  },
  {
   "cell_type": "markdown",
   "id": "6e7632bf-92a1-466f-bdc2-016b66cdaa8b",
   "metadata": {},
   "source": [
    "Here you may see the results are identical. \n",
    "\n",
    "The next steps are:\n",
    "\n",
    "* Synchronise the databases using CDC so we avoid downtimes on switchover\n",
    "* Replay workloads on a sandbox Oracle database and PostgreSQL via Liberatii Gateway, for testing correctness and performance\n"
   ]
  },
  {
   "cell_type": "markdown",
   "id": "e1d2c31d-06be-4ab8-b516-ae02dcdf334a",
   "metadata": {},
   "source": [
    "# Stage 2: Synchronise the databases\n",
    "\n",
    "The "
   ]
  }
 ],
 "metadata": {
  "kernelspec": {
   "display_name": "Python 3 (ipykernel)",
   "language": "python",
   "name": "python3"
  },
  "language_info": {
   "codemirror_mode": {
    "name": "ipython",
    "version": 3
   },
   "file_extension": ".py",
   "mimetype": "text/x-python",
   "name": "python",
   "nbconvert_exporter": "python",
   "pygments_lexer": "ipython3",
   "version": "3.11.4"
  }
 },
 "nbformat": 4,
 "nbformat_minor": 5
}
