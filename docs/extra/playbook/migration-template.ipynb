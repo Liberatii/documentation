{
 "cells": [
  {
   "cell_type": "markdown",
   "id": "53d7bae6-321d-4580-8982-ccc0a65f95d3",
   "metadata": {},
   "source": [
    "# Migration Notebook\n",
    "\n",
    "This notebook is a live document to control the process of migrating applications from an Oracle database to a Postgres database virtualized by Liberatii Gateway.\n",
    "\n",
    "## Using this notebook\n",
    "\n",
    "Each stage described in this notebook has a set of corresponding criteria in the **success criteria** spreadsheet and a description of troubleshooting steps to resolve errors. Proceed to a following step **only** when the tests in this notebook pass according to the definitions set out in the **success criteria**.\n",
    "\n",
    "The **playbook** that references this document contains more detailed information in order to troubleshoot specific errors that can be used with the troubleshooting blocks in this document.\n",
    "\n",
    "## Configuration\n",
    "\n",
    "### Notebook preamble\n",
    "\n",
    "The following blocks allow this notebook to directly access the databases and control some aspects of the styling."
   ]
  },
  {
   "cell_type": "code",
   "execution_count": null,
   "id": "5402a294-3572-4701-8466-5bc4da9f8db7",
   "metadata": {},
   "outputs": [],
   "source": [
    "%load_ext sql\n",
    "import socket\n",
    "import json\n",
    "import os\n",
    "import time\n",
    "import pandas as pd\n",
    "from IPython.utils import io\n",
    "from tqdm import tqdm\n",
    "import sys"
   ]
  },
  {
   "cell_type": "code",
   "execution_count": null,
   "id": "d940f57e-97b9-4dc5-b9fd-e283eaffcf77",
   "metadata": {},
   "outputs": [],
   "source": [
    "%%html\n",
    "<style>\n",
    "td { text-align: left !important; valign: left !important; }\n",
    "</style>"
   ]
  },
  {
   "cell_type": "markdown",
   "id": "7858a51c-5fad-4732-a09c-94a728adce09",
   "metadata": {},
   "source": [
    "## Connection configuration\n",
    "\n",
    "This sections configures the connection information to allow this notebook access to the components of the build:\n",
    "\n",
    "* The Oracle database\n",
    "* The Postgres database\n",
    "* The Liberatii Gateway that virtualizes the Postgres database\n",
    "* The Liberatii Data Platform that provides the API for actions to control the migration\n",
    "\n",
    "This section should be pre-filled by Liberatii as part of the **plan and build** stage. It concludes with a test section to make sure that all components are behaving correctly."
   ]
  },
  {
   "cell_type": "code",
   "execution_count": null,
   "id": "fb5118f9-13c3-4aa6-97ce-a15d8e90280d",
   "metadata": {},
   "outputs": [],
   "source": [
    "## Hostname or IP Address of the Oracle Database\n",
    "ORACLE_HOST=\"oracle\"\n",
    "\n",
    "## Hostname or IP Address of the Liberatii Gateway\n",
    "GATEWAY_HOST=\"pgtranslator\"\n",
    "\n",
    "## Hostname or IP Address of the Liberatii Data Platform\n",
    "PLATFORM_HOST=\"migration\"\n",
    "\n",
    "## Hostname or IP Address of the Postgres Database\n",
    "POSTGRES_HOST=\"postgres\"\n",
    "\n",
    "## Database connection information\n",
    "USERNAME=\"HR\"\n",
    "PASSWORD=\"hr\"\n",
    "DATABASE=\"pdborcl\"\n",
    "\n",
    "## Oracle user required for Log Mining\n",
    "SYNC_USERNAME='c##xstrm'\n",
    "SYNC_PASSWORD='xs'\n",
    "\n",
    "## Location of Change-Data-Capture pipeline manager\n",
    "CDC_HOST='http://kafka-connect:8083'\n",
    "\n",
    "## Service ports\n",
    "ORACLE_PORT=1521\n",
    "POSTGRES_PORT=5432\n",
    "GATEWAY_PORT=15432\n",
    "\n",
    "## Connection settings for code blocks\n",
    "POSTGRES=f'postgresql://{USERNAME}:{PASSWORD}@{POSTGRES_HOST}:{POSTGRES_PORT}/{DATABASE}'\n",
    "ORACLE_CONNECTION_STRING=f'(DESCRIPTION=(ADDRESS=(PROTOCOL=TCP)(HOST={ORACLE_HOST})(PORT={ORACLE_PORT}))(CONNECT_DATA=(SERVICE_NAME={DATABASE})))'\n",
    "ORACLE=f'oracle://{USERNAME}:{PASSWORD}@{ORACLE_CONNECTION_STRING}'\n",
    "PLATFORM=f\"http://{socket.gethostbyname(PLATFORM_HOST)}:3000\"\n",
    "GATEWAY=f'postgresql://{USERNAME}:{PASSWORD}@{GATEWAY_HOST}:{GATEWAY_PORT}/{DATABASE}'\n",
    "ORACLE_SYNC=f'oracle://{SYNC_USERNAME}:{SYNC_PASSWORD}@{ORACLE_CONNECTION_STRING}'\n",
    "\n",
    "print(f\"\"\"\n",
    "Connection settings:\n",
    "\n",
    "    Liberatii Gateway:\n",
    "      {GATEWAY}\n",
    "    Liberatii Data Platform:\n",
    "      {PLATFORM}/api\n",
    "\n",
    "    PostgreSQL:             \n",
    "      {POSTGRES}\n",
    "    Oracle:                 \n",
    "      {ORACLE}\n",
    "    \n",
    "The API may be opened in a browser for reference.\n",
    "\"\"\")\n"
   ]
  },
  {
   "cell_type": "markdown",
   "id": "26111f40-c73d-4515-b11d-80e9136b5a1c",
   "metadata": {},
   "source": [
    "The following blocks test the connectivity by querying version information of the databases under test.\n",
    "\n",
    "Proceed to the next section only when:\n",
    "\n",
    "1. Both the Oracle and Postgres databases return the expected version information\n",
    "2. The Gateway returns a version that matches the Postgres database, but uses Oracle Syntax\n",
    "3. The API returns `[]` (no current operations are in progress) or only completed operations\n",
    "\n",
    "If any of the above steps fail, verify the connection information, check firewalls and permissions allow access and ensure that the machines are accessible in their cloud consoles (if appropriate).\n"
   ]
  },
  {
   "cell_type": "code",
   "execution_count": null,
   "id": "863373d8-b30d-46bc-aca2-782a26073690",
   "metadata": {},
   "outputs": [],
   "source": [
    "%%sql {ORACLE}\n",
    "-- Find version information for the Oracle database\n",
    "select banner FROM v$version"
   ]
  },
  {
   "cell_type": "code",
   "execution_count": null,
   "id": "471899ae-a6e7-4f17-80bc-78638d33004e",
   "metadata": {},
   "outputs": [],
   "source": [
    "%%sql {ORACLE_SYNC}\n",
    "-- Find version information for the Oracle database\n",
    "select banner FROM v$version"
   ]
  },
  {
   "cell_type": "code",
   "execution_count": null,
   "id": "a93d926e-7dd6-44e2-92b2-7f82b3a20a72",
   "metadata": {},
   "outputs": [],
   "source": [
    "%%sql {POSTGRES}\n",
    "-- Find version information for the PostgreSQL database\n",
    "select version()"
   ]
  },
  {
   "cell_type": "code",
   "execution_count": null,
   "id": "8341230b-f362-497f-a304-2e38208a854e",
   "metadata": {},
   "outputs": [],
   "source": [
    "%%sql {GATEWAY}\n",
    "-- Find version information for the PostgreSQL database\n",
    "select banner FROM v$version"
   ]
  },
  {
   "cell_type": "code",
   "execution_count": null,
   "id": "00747500-b5c1-4582-85c7-79c9e05655db",
   "metadata": {},
   "outputs": [],
   "source": [
    "!curl -X 'GET' \\\n",
    "  {PLATFORM}/operation \\\n",
    "  -H 'accept: application/json'"
   ]
  },
  {
   "cell_type": "markdown",
   "id": "3ca2f2f1-18fd-4d54-8d4e-bee914cab74e",
   "metadata": {},
   "source": [
    "## Liberatii Data Platform configuration\n",
    "\n",
    "The following blocks configure the Liberatii Data Platform with the connection information for the\n",
    "databases and the gateway, and initialises the platform.\n",
    "\n",
    "Proceed to the schema conversion stage when the \"init\" operation returns a message with `\"status\": \"Succeeded\"` and the final query returns the expected number of objects.\n"
   ]
  },
  {
   "cell_type": "code",
   "execution_count": null,
   "id": "947637a4-455b-4590-871b-5fbc71bfba4b",
   "metadata": {},
   "outputs": [],
   "source": [
    "!curl -s {PLATFORM}/connection -H 'Content-Type: application/json' \\\n",
    "   -d '{{\"type\":\"Oracle\",\"connectionString\":\"{ORACLE_CONNECTION_STRING}\",\"user\":\"{USERNAME}\",\"password\":\"{PASSWORD}\",\"id\":1}}'"
   ]
  },
  {
   "cell_type": "code",
   "execution_count": null,
   "id": "342246bb-040a-48f0-9343-5d9613f397a9",
   "metadata": {},
   "outputs": [],
   "source": [
    "!curl -s {PLATFORM}/connection -H 'Content-Type: application/json' \\\n",
    "  -d '{{\"type\":\"PostgreSQL\",\"host\":\"{POSTGRES_HOST}\",\"port\":5432,\"database\":\"{DATABASE}\",\"user\":\"{USERNAME}\",\"password\":\"{PASSWORD}\",\"id\":2}}'"
   ]
  },
  {
   "cell_type": "code",
   "execution_count": null,
   "id": "7e5f8cb1-6faf-41e3-9096-48b3a116d58d",
   "metadata": {},
   "outputs": [],
   "source": [
    "!curl -s {PLATFORM}/connection -H 'Content-Type: application/json' \\\n",
    "  -d '{{\"type\":\"LGW\",\"host\":\"{GATEWAY_HOST}\",\"port\":{GATEWAY_PORT},\"database\":\"{DATABASE}\",\"user\":\"{USERNAME}\",\"password\":\"{PASSWORD}\", \"id\":3}}'"
   ]
  },
  {
   "cell_type": "code",
   "execution_count": null,
   "id": "43e4dc33-08df-46f6-b8e2-6cfc56e80c56",
   "metadata": {},
   "outputs": [],
   "source": [
    "result = !curl -s {PLATFORM}/config -H 'Content-Type: application/json' \\\n",
    "  -d '{{\"dataOnePass\": true, \"users\":[\"{USERNAME}\"], \"verbose\":2, \"eraseOnInit\":true}}'\n",
    "print(json.dumps(json.loads(result[0]), indent=True))"
   ]
  },
  {
   "cell_type": "code",
   "execution_count": null,
   "id": "24bf0740-5b95-470d-9c0e-065384c11a7f",
   "metadata": {},
   "outputs": [],
   "source": [
    "result = !curl -s {PLATFORM}/operation -H 'Content-Type: application/json' -d '{{ \"id\": 1, \"oracle\": 1, \"lgw\": 3, \"stage\": \"init\" }}'\n",
    "print(json.dumps(json.loads(result[0]), indent=True))"
   ]
  },
  {
   "cell_type": "code",
   "execution_count": null,
   "id": "16068be6-31e9-4298-b3bc-f3499e29a135",
   "metadata": {},
   "outputs": [],
   "source": [
    "result = !curl -s -X POST {PLATFORM}/operation/1/wait?count=1\n",
    "print(json.dumps(json.loads(result[0]), indent=True))"
   ]
  },
  {
   "cell_type": "code",
   "execution_count": null,
   "id": "a79c2af7-3a1b-4c86-8ad4-f54f0b14f529",
   "metadata": {},
   "outputs": [],
   "source": [
    "%%sql {POSTGRES}\n",
    "select count(*), type, stage, error from dbt.migration_objects group by type, stage, error"
   ]
  },
  {
   "cell_type": "markdown",
   "id": "178a1d43-4409-448a-be32-841b5ae6c43d",
   "metadata": {},
   "source": [
    "# Schema Conversion\n",
    "\n",
    "The schema conversion stage translates the DDL statements recorded in the previous stage by passing them through Liberatii Gateway.\n",
    "\n",
    "<img src=\"./step3.png\" style=\"margin:auto\" alt=\"Schema conversion diagram\" title=\"Schema conversion diagram\"/>\n",
    "\n",
    "In order to speed up data transfer, this stage does **not** translate `INDEX` objects. Therefore, this stage is complete when all non-index objects are in the `D` stage. The following query displays the status of the migration and can be re-run to confirm status throughout the process.\n",
    "\n",
    "Proceed to the next section only when all non-index objects are in the `D` stage.\n",
    "\n",
    "If any objects do not migrate successfully they can be retryed by modifying their DDL or skipped by modifying their stage directly if they are not required. Steps to perform these operations are given at the end of this section."
   ]
  },
  {
   "cell_type": "code",
   "execution_count": null,
   "id": "ed90e81b-0722-4d0e-a34f-f79738f03629",
   "metadata": {},
   "outputs": [],
   "source": [
    "%%sql {POSTGRES}\n",
    "select count(*), type, stage, error from dbt.migration_objects group by type, stage, error"
   ]
  },
  {
   "cell_type": "markdown",
   "id": "24112672-b75d-4feb-b14b-c8381d1bd4b7",
   "metadata": {},
   "source": [
    "The following block will ask the Liberatii Data Platform to start the `schema` stage then monitor the objects left to be processed. It will finish when operation completes with either success or error. After this the database can be re-examined to determine the status of the migration.\n",
    "<a id='MigrateSchema'/>"
   ]
  },
  {
   "cell_type": "code",
   "execution_count": null,
   "id": "7239f0dd-ad56-44b2-8210-0a31202a6811",
   "metadata": {},
   "outputs": [],
   "source": [
    "## Find the total number of objects to be migrated\n",
    "with io.capture_output():\n",
    "        result=%sql {POSTGRES} select count(*) from dbt.migration_objects where type != 'INDEX'\n",
    "\n",
    "## Begin the operation\n",
    "operation = !curl -s {PLATFORM}/operation -H 'Content-Type: application/json' -d '{{ \"id\": 1, \"oracle\": 1, \"lgw\": 3, \"stage\": \"schema\" }}'\n",
    "\n",
    "## Check the output\n",
    "with tqdm(total=result[0][0], file=sys.stdout) as progress:\n",
    "    while result[0][0] > 0:\n",
    "        with io.capture_output():\n",
    "            result=%sql {POSTGRES} select count(*) from dbt.migration_objects where stage = 'I' and type != 'INDEX'\n",
    "        if result[0][0] > 0:\n",
    "            time.sleep(1)\n",
    "        progress.update(progress.total - result[0][0] - progress.n)\n",
    "        operation = !curl -s {PLATFORM}/operation/1\n",
    "        if json.loads(operation[0])[\"status\"] != 'Running':\n",
    "            break\n",
    "    operation = !curl -X POST -s {PLATFORM}/operation/1/wait\n",
    "    with io.capture_output():\n",
    "        result=%sql {POSTGRES} select count(*) from dbt.migration_objects where stage = 'I' and type != 'INDEX'\n",
    "    progress.update(progress.total - result[0][0] - progress.n)\n",
    "\n",
    "## Print summary\n",
    "status = json.loads(operation[0])[\"status\"]    \n",
    "print(f\"Operation complete, status: {status}\")"
   ]
  },
  {
   "cell_type": "code",
   "execution_count": null,
   "id": "37762009-2992-4775-a708-164051c60199",
   "metadata": {},
   "outputs": [],
   "source": [
    "%%sql {POSTGRES}\n",
    "select count(*), stage, type, error from dbt.migration_objects where type != 'INDEX' group by stage, type, error"
   ]
  },
  {
   "cell_type": "markdown",
   "id": "fbcb7f4a-8606-4768-be75-d2cc81efdba6",
   "metadata": {},
   "source": [
    "### Reprocessing conversions\n",
    "\n",
    "If an object fails to migrate it is possible to modify its DDL to (for example) add a cast to correct an error. The following block selects all objects that have failed to migrate:"
   ]
  },
  {
   "cell_type": "code",
   "execution_count": null,
   "id": "fefb5ccf-09bf-44ee-89bc-19d942cf7ed4",
   "metadata": {},
   "outputs": [],
   "source": [
    "%%sql {POSTGRES}\n",
    "select name, error, ddl1 from dbt.migration_objects where error <> ''"
   ]
  },
  {
   "cell_type": "markdown",
   "id": "b1d86cb3-3eca-40f3-9209-424e58195b9a",
   "metadata": {},
   "source": [
    "The following block demonstrates the process of modifying the DDL of the migration objects to fix any errors. Once this has been performed the [schema migration operation](#MigateSchema) can be re-run to migrate this object again."
   ]
  },
  {
   "cell_type": "code",
   "execution_count": null,
   "id": "6c4702af-b6d4-48ac-a34a-07c36d207843",
   "metadata": {},
   "outputs": [],
   "source": [
    "%%sql {POSTGRES}\n",
    "\n",
    "update dbt.migration_objects set\n",
    "    stage='I',\n",
    "    error='',\n",
    "    ddl1 = '<New DDL for object>'\n",
    "where name = '<OBJECT NAME>'"
   ]
  },
  {
   "cell_type": "markdown",
   "id": "28a2d250-2bcb-408c-ae83-d54d696f7d6f",
   "metadata": {},
   "source": [
    "### Skipping a conversion\n",
    "\n",
    "If an object fails to migrate and is not required (as defined by the **success criteria**) then the object can be skipped by modifying its `stage` to show it as completed."
   ]
  },
  {
   "cell_type": "code",
   "execution_count": null,
   "id": "89e890dd-d510-4d5c-b18c-737002d8ece2",
   "metadata": {},
   "outputs": [],
   "source": [
    "%%sql {POSTGRES}\n",
    "\n",
    "delete from dbt.migration_objects where name = '<OBJECT NAME>'"
   ]
  },
  {
   "cell_type": "markdown",
   "id": "b027070a-6ff7-4ea0-b909-332d1447cf1c",
   "metadata": {},
   "source": [
    "# Data Transfer\n",
    "\n",
    "The data transfer stages transfers data in blocks from the source database to the target database. It is possible to run this operation using multiple operations to increase throughput. However, the total throughput will be limited to the minimum of the following:\n",
    "\n",
    "* The egress capabilities of the Oracle database and network\n",
    "* The ingress capabilities of the Postgres database\n",
    "* The bandwidth available to the Liberatii Data Platform\n",
    "\n",
    "<img src=\"./step4.png\" style=\"margin: auto; padding-bottom: 20px;\" alt=\"Data Transfer\" title=\"Data Transfer\"/>\n",
    "\n",
    "Proceed to the next section only when all tables are marked as 'K'.\n",
    "\n",
    "The following step will show the data volume for each table that will be migrated:"
   ]
  },
  {
   "cell_type": "code",
   "execution_count": null,
   "id": "7a3062e6-3d45-42b1-9f65-98cc10d18701",
   "metadata": {},
   "outputs": [],
   "source": [
    "%%sql {POSTGRES}\n",
    "select name, pg_size_pretty(data_size), stage, error from dbt.migration_objects where type = 'TABLE' order by data_size desc"
   ]
  },
  {
   "cell_type": "markdown",
   "id": "dddd3e4f-155b-46fc-a24b-965ec38e6375",
   "metadata": {},
   "source": [
    "The following configuration options may improve throughput:\n",
    "\n",
    "* `useNative` - Bypass the Liberatii Gateway when writing data if not required\n",
    "* `rowsBuf` - Number of rows to process at a time. Increasing this will increase memory pressure on the Liberatii Data Platform but will reduce round-trips to the database. Increase this if you have tables with many rows but little data.\n",
    "* `dataOnePass` - Do not stage data before transfer. This must be turned off to use data chunking or parallel tables (`parTables`).\n",
    "* `dataChunkSize` - Size in bytes of the data chunks to copy in one go. \n",
    "* `parTables` - Set to true to allow multiple operations to act on single tables.\n",
    "\n",
    "A reasonable estimation to achieve good throughput for tables with **a large volume of data per row** is to set `dataOnePass` to false, `parTables` to true and set the `dataChunkSize` to cover 10 rows of data or 100MB. If the converse is true and tables have a **low volume of data per row** then `dataOnePass` should be set to true.\n",
    "\n",
    "The following cell demonstrates setting a configuration operation to disable `dataOnePass`:"
   ]
  },
  {
   "cell_type": "code",
   "execution_count": null,
   "id": "22dfdaeb-916f-4fed-a05d-0ce98b1301e4",
   "metadata": {},
   "outputs": [],
   "source": [
    "!curl -XPUT {PLATFORM}/config/dataOnePass \\\n",
    "    -H 'Content-Type: application/json' \\\n",
    "    -d '{{\"value\": false}}'"
   ]
  },
  {
   "cell_type": "markdown",
   "id": "985c41fe-5b86-4cf3-9a03-0e4d68a9bb56",
   "metadata": {},
   "source": [
    "The following cell will run the data transfer according to the current settings. The constant `OPERATIONS` can be adjusted as required to control the number of concurrent operations."
   ]
  },
  {
   "cell_type": "code",
   "execution_count": null,
   "id": "89296a7a-750a-4a19-9643-bb9d7897a25e",
   "metadata": {},
   "outputs": [],
   "source": [
    "## Concurrent operations to run\n",
    "OPERATIONS=2\n",
    "\n",
    "## Find the total number of objects to be migrated\n",
    "with io.capture_output():\n",
    "    result=%sql {POSTGRES} select count(*) from dbt.migration_objects where stage in ('D', 'R', 'K') and type = 'TABLE'\n",
    "\n",
    "## Begin the operations\n",
    "operations=[]\n",
    "for _ in range(OPERATIONS):\n",
    "    operation = !curl -s {PLATFORM}/operation -H 'Content-Type: application/json' -d '{{ \"oracle\": 1, \"lgw\": 3, \"stage\": \"data\" }}'\n",
    "    operations.append(json.loads(operation[0])[\"operation\"][\"id\"])\n",
    "    print(f\"Started operation id={operations[-1]}\")\n",
    "\n",
    "## Check the output\n",
    "with tqdm(total=result[0][0], file=sys.stdout) as progress:\n",
    "    while result[0][0] > 0 and len(operations) > 0:\n",
    "        with io.capture_output():\n",
    "            result=%sql {POSTGRES} select count(*) from dbt.migration_objects where stage = 'D' and type = 'TABLE'\n",
    "        if result[0][0] > 0:\n",
    "            time.sleep(1)\n",
    "        progress.update(progress.total - result[0][0] - progress.n)\n",
    "        operation = !curl -s {PLATFORM}/operation/{operations[-1]}\n",
    "        if json.loads(operation[0])[\"status\"] != 'Running':\n",
    "            operations.pop()\n",
    "    for id in operations:\n",
    "        operation = !curl -X POST -s {PLATFORM}/operation/{id}/wait\n",
    "    with io.capture_output():\n",
    "        result=%sql {POSTGRES} select count(*) from dbt.migration_objects where stage = 'D' and type = 'TABLE'\n",
    "    progress.update(progress.total - result[0][0] - progress.n)\n",
    "\n",
    "## Print summary\n",
    "status = json.loads(operation[0])[\"status\"]  \n",
    "print(f\"Operation complete, status: {status}\")"
   ]
  },
  {
   "cell_type": "markdown",
   "id": "c31f8896-8092-4a5a-a594-69d404c573fb",
   "metadata": {},
   "source": [
    "If the above step fails (`status: Failed`) then the logs can be viewed using the following block:"
   ]
  },
  {
   "cell_type": "code",
   "execution_count": null,
   "id": "03e95ce3-3d3f-4bbd-8f80-37b56e52200c",
   "metadata": {},
   "outputs": [],
   "source": [
    "result=!curl -s {PLATFORM}/operation\n",
    "for operation in json.loads(result[0]):\n",
    "    if operation[\"status\"] != \"Succeeded\":\n",
    "        result=!curl -s {PLATFORM}/operation/{operation[\"id\"]}\n",
    "        print(f\"Operation {operation['id']} failed, messages:\\n  \", end='')\n",
    "        print(\"\\n  \".join(json.loads(result[0])[\"messages\"]))"
   ]
  },
  {
   "cell_type": "markdown",
   "id": "634af8ac-0f9d-4c79-a140-bcfe06cec565",
   "metadata": {},
   "source": [
    "The following cell will check whether all tables are migrated. Any which are not in the 'R' or 'K' stages are not yet transfered."
   ]
  },
  {
   "cell_type": "code",
   "execution_count": null,
   "id": "51045bb4-24f9-44ac-898a-5c728956e2ce",
   "metadata": {},
   "outputs": [],
   "source": [
    "%%sql {POSTGRES}\n",
    "select stage, error from dbt.migration_objects where type = 'TABLE' group by stage, error"
   ]
  },
  {
   "cell_type": "markdown",
   "id": "5caa7cbf-3970-4f4f-b8ae-7e907741458e",
   "metadata": {},
   "source": [
    "# Constraint Migration\n",
    "\n",
    "The constraint migration stages sets up the constraints on the tables. This is done **after** the data transfer stage to prevent constraints conflicting with insertions into separate tables.\n",
    "\n",
    "Proceed to the next section only when all objects are in the `D` or `d` stage.\n",
    "\n",
    "The following cell will migrate the constraints for all objects:"
   ]
  },
  {
   "cell_type": "code",
   "execution_count": null,
   "id": "1eda9473-5aee-4a6c-8fc1-b3167103c931",
   "metadata": {},
   "outputs": [],
   "source": [
    "## Find the total number of objects to be migrated\n",
    "with io.capture_output():\n",
    "    result=%sql {POSTGRES} select count(*) from dbt.migration_objects\n",
    "\n",
    "## Begin the operation\n",
    "operation = !curl -s {PLATFORM}/operation -H 'Content-Type: application/json' -d '{{ \"id\": 1, \"oracle\": 1, \"lgw\": 3, \"stage\": \"constraints\" }}'\n",
    "\n",
    "## Check the output\n",
    "with tqdm(total=result[0][0], file=sys.stdout) as progress:\n",
    "    while result[0][0] > 0:\n",
    "        with io.capture_output():\n",
    "            result=%sql {POSTGRES} select count(*) from dbt.migration_objects where stage in ('I', 'R')\n",
    "        if result[0][0] > 0:\n",
    "            time.sleep(1)\n",
    "        progress.update(progress.total - result[0][0] - progress.n)\n",
    "        operation = !curl -s {PLATFORM}/operation/1\n",
    "        if json.loads(operation[0])[\"status\"] != 'Running':\n",
    "            break\n",
    "    operation = !curl -X POST -s {PLATFORM}/operation/1/wait\n",
    "    with io.capture_output():\n",
    "        result=%sql {POSTGRES} select count(*) from dbt.migration_objects where stage in ('I', 'R')\n",
    "    progress.update(progress.total - result[0][0] - progress.n)\n",
    "\n",
    "## Print summary\n",
    "status = json.loads(operation[0])[\"status\"]\n",
    "print(f\"Operation complete, status: {status}\")"
   ]
  },
  {
   "cell_type": "code",
   "execution_count": null,
   "id": "c6874984-51e6-4c7e-b896-964f2b271bba",
   "metadata": {},
   "outputs": [],
   "source": [
    "%%sql {POSTGRES}\n",
    "select count(*), stage, type, error from dbt.migration_objects group by stage, type, error"
   ]
  },
  {
   "cell_type": "markdown",
   "id": "6d8a9178-1abe-4355-8f1d-ad3a508ae90e",
   "metadata": {},
   "source": [
    "# Verification\n",
    "\n",
    "The verification stage will run a hash check over all data in all columns to determine whether the data transfer is successful. This operation can be CPU and IO intensive on both databases so may take some time.\n",
    "\n",
    "Proceed to the next stage only when all table objects are in the `K` stage."
   ]
  },
  {
   "cell_type": "code",
   "execution_count": null,
   "id": "fb812015-311a-40c7-8d1d-eb72b71ddc0e",
   "metadata": {},
   "outputs": [],
   "source": [
    "## Find the total number of objects to be migrated\n",
    "with io.capture_output():\n",
    "        result=%sql {POSTGRES} select count(*) from dbt.migration_objects where stage in ('d', 'K') and type = 'TABLE'\n",
    "\n",
    "## Begin the operation\n",
    "operation = !curl -s {PLATFORM}/operation -H 'Content-Type: application/json' -d '{{ \"id\": 1, \"oracle\": 1, \"lgw\": 3, \"stage\": \"check\" }}'\n",
    "\n",
    "## Check the output\n",
    "with tqdm(total=result[0][0], file=sys.stdout) as progress:\n",
    "    while result[0][0] > 0:\n",
    "        with io.capture_output():\n",
    "            result=%sql {POSTGRES} select count(*) from dbt.migration_objects where stage = 'd' and type = 'TABLE'\n",
    "        if result[0][0] > 0:\n",
    "            time.sleep(1)\n",
    "        progress.update(progress.total - result[0][0] - progress.n)\n",
    "        operation = !curl -s {PLATFORM}/operation/1\n",
    "        if json.loads(operation[0])[\"status\"] != 'Running':\n",
    "            break\n",
    "    operation = !curl -X POST -s {PLATFORM}/operation/1/wait\n",
    "    with io.capture_output():\n",
    "        result=%sql {POSTGRES} select count(*) from dbt.migration_objects where stage = 'd' and type = 'TABLE'\n",
    "    progress.update(progress.total - result[0][0] - progress.n)\n",
    "\n",
    "## Print summary\n",
    "status = json.loads(operation[0])[\"status\"]\n",
    "print(f\"Operation complete, status: {status}\")"
   ]
  },
  {
   "cell_type": "code",
   "execution_count": null,
   "id": "f4943dcf-4a57-45c1-a4a9-e1d3547d4f18",
   "metadata": {},
   "outputs": [],
   "source": [
    "%%sql {POSTGRES}\n",
    "\n",
    "select stage, error from dbt.migration_objects where type = 'TABLE' group by stage, error"
   ]
  },
  {
   "cell_type": "markdown",
   "id": "622a29fd-28d8-413e-8125-81d84bf57898",
   "metadata": {},
   "source": [
    "### Verification errors\n",
    "\n",
    "If there are verification errors it will be necessary to determine where these errors have come from. The most likely cause of a verification error is that data was added or removed between the data transfer and verification stages. In this case it is recommended to run the data transfer and verification from a **snapshot** then synchronised from the real database."
   ]
  },
  {
   "cell_type": "markdown",
   "id": "1e6b6f9d-8b79-47b0-96ae-ced23f69e3d7",
   "metadata": {},
   "source": [
    "# Synchronization\n",
    "\n",
    "The synchronization step will set up a Change-Data-Capture pipeline between the Oracle and Postgres database. It does this using LogMiner to collect changes from the database.\n",
    "\n",
    "This connection requires permissions that the schema user is unlikely to have. A separate user should therefore be setup according to the guidelines specified here: https://debezium.io/documentation/reference/stable/connectors/oracle.html.\n",
    "\n",
    "Proceed to the next section only when all table connectors are marked `RUNNING` for the status and task status.\n",
    "\n",
    "The following cell will setup the new connection. The username and password can also be set here for ease of use:"
   ]
  },
  {
   "cell_type": "code",
   "execution_count": null,
   "id": "27b14f85-8210-479a-8b3e-bbb223e6d9ae",
   "metadata": {},
   "outputs": [],
   "source": [
    "# Change this quickly here to test new user connections\n",
    "SYNC_USERNAME=f\"{SYNC_USERNAME}\"\n",
    "SYNC_PASSWORD=f\"{SYNC_PASSWORD}\"\n",
    "\n",
    "# Set the new information\n",
    "print(f\"Setting Oracle connection to: {SYNC_USERNAME}/{SYNC_PASSWORD}@{ORACLE_CONNECTION_STRING}\")\n",
    "!curl {PLATFORM}/connection -H 'Content-Type: application/json' \\\n",
    "   -d '{{  \"type\":\"Oracle\",\\\n",
    "           \"connectionString\":\"{ORACLE_CONNECTION_STRING}\",\\\n",
    "           \"user\": \"{SYNC_USERNAME}\",\\\n",
    "           \"password\": \"{SYNC_PASSWORD}\",\\\n",
    "           \"id\":1}}'"
   ]
  },
  {
   "cell_type": "markdown",
   "id": "4da558f7-1db3-4deb-86dc-54786adc3acb",
   "metadata": {},
   "source": [
    "The following cell will enable the synchronization workers for all tables:"
   ]
  },
  {
   "cell_type": "code",
   "execution_count": null,
   "id": "e06c0ec9-2965-4341-9df5-e5a1e5647c00",
   "metadata": {},
   "outputs": [],
   "source": [
    "result=!curl -s {PLATFORM}/operation -H 'Content-Type: application/json' -d '{{ \"id\": 1, \"oracle\": 1, \"postgres\": 2, \"lgw\": 3, \"stage\": \"sync\" }}'\n",
    "result=!curl -s -XPOST {PLATFORM}/operation/1/wait\n",
    "decoded = json.loads(result[0])\n",
    "print(decoded[\"status\"])"
   ]
  },
  {
   "cell_type": "code",
   "execution_count": null,
   "id": "e4659162-56fb-49f4-a9dd-8e332e5a31cc",
   "metadata": {},
   "outputs": [],
   "source": [
    "result=!curl -I -s {CDC_HOST}/connectors\n",
    "if result == []:\n",
    "    print(\"CDC Host is down\")\n",
    "    decoded={}\n",
    "else:\n",
    "    result=!curl -s {CDC_HOST}/connectors?expand=status\n",
    "    decoded=json.loads(result[0])\n",
    "print(\"CDC Table status:\")\n",
    "pd.DataFrame(\n",
    "    [   [\n",
    "            sink,\n",
    "            s[\"status\"][\"connector\"][\"state\"],\n",
    "            (s[\"status\"][\"tasks\"] or [{\"state\": \"...\"}])[0][\"state\"]]\n",
    "        for sink, s in decoded.items()],\n",
    "    columns=[\"Sink\", \"Status\", \"Task Status\"])"
   ]
  },
  {
   "cell_type": "markdown",
   "id": "1869b29a-0251-4015-9129-2b1d55b06e12",
   "metadata": {},
   "source": [
    "### Resolving connector issues\n",
    "\n",
    "The following cell will enumerate the errors returned by any failing connectors. The most likely error to be encountered is \"DDL Statement couldn't be parsed\". This means that the table on the Oracle side cannot be parsed by the Change-Data-Capture tools.\n",
    "\n",
    "If the tables that are causing issues are not in use they can be dropped to resolve this issue. Otherwise Liberatii can be contacted to find a workaround."
   ]
  },
  {
   "cell_type": "code",
   "execution_count": null,
   "id": "426a991a-51ed-47f2-89c3-ab6e37694755",
   "metadata": {},
   "outputs": [],
   "source": [
    "result=!curl -s {CDC_HOST}/connectors?expand=status\n",
    "decoded=json.loads(result[0])\n",
    "failures = [\n",
    "    [sink, s[\"status\"][\"tasks\"][0][\"trace\"]] \n",
    "    for sink, s in decoded.items()\n",
    "    if (s[\"status\"][\"tasks\"] or [{\"state\":\"\"}])[0][\"state\"] == 'FAILED']\n",
    "for name, failure in failures:\n",
    "    print(f\"Sink {name} failed with:\")\n",
    "    print(failure)"
   ]
  }
 ],
 "metadata": {
  "kernelspec": {
   "display_name": "Python 3 (ipykernel)",
   "language": "python",
   "name": "python3"
  },
  "language_info": {
   "codemirror_mode": {
    "name": "ipython",
    "version": 3
   },
   "file_extension": ".py",
   "mimetype": "text/x-python",
   "name": "python",
   "nbconvert_exporter": "python",
   "pygments_lexer": "ipython3",
   "version": "3.11.6"
  }
 },
 "nbformat": 4,
 "nbformat_minor": 5
}
